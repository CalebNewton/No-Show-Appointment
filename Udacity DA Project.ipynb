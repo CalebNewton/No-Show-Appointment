{
 "cells": [
  {
   "cell_type": "markdown",
   "id": "df656686",
   "metadata": {},
   "source": [
    "# Obtaining our dataset"
   ]
  },
  {
   "cell_type": "code",
   "execution_count": 1,
   "id": "793143a9",
   "metadata": {},
   "outputs": [],
   "source": [
    "import warnings\n",
    "warnings.simplefilter(action='ignore', category=FutureWarning)"
   ]
  },
  {
   "cell_type": "code",
   "execution_count": 2,
   "id": "1f9201a0",
   "metadata": {},
   "outputs": [],
   "source": [
    "import pandas as pd\n",
    "import numpy as np\n",
    "import matplotlib.pyplot as plt\n",
    "%matplotlib inline\n",
    "import seaborn as sns\n",
    "sns.set_style('darkgrid')"
   ]
  },
  {
   "cell_type": "markdown",
   "id": "af728d74",
   "metadata": {},
   "source": [
    "This dataset collects information from 100000 medical appointments in brazil and is focused on the question of whether or not patients show up for their appointment. This dataset was originally sourced from </https://www.kaggle.com/>"
   ]
  },
  {
   "cell_type": "code",
   "execution_count": 3,
   "id": "13db6b3b",
   "metadata": {},
   "outputs": [],
   "source": [
    "#Loading our dataset\n",
    "\n",
    "df = pd.read_csv(\"C:/Users/Caleb Henry/Desktop/Udacity/noshowappointments-kagglev2-may-2016.csv\")"
   ]
  },
  {
   "cell_type": "code",
   "execution_count": 4,
   "id": "a6586949",
   "metadata": {},
   "outputs": [
    {
     "data": {
      "text/html": [
       "<div>\n",
       "<style scoped>\n",
       "    .dataframe tbody tr th:only-of-type {\n",
       "        vertical-align: middle;\n",
       "    }\n",
       "\n",
       "    .dataframe tbody tr th {\n",
       "        vertical-align: top;\n",
       "    }\n",
       "\n",
       "    .dataframe thead th {\n",
       "        text-align: right;\n",
       "    }\n",
       "</style>\n",
       "<table border=\"1\" class=\"dataframe\">\n",
       "  <thead>\n",
       "    <tr style=\"text-align: right;\">\n",
       "      <th></th>\n",
       "      <th>PatientId</th>\n",
       "      <th>AppointmentID</th>\n",
       "      <th>Gender</th>\n",
       "      <th>ScheduledDay</th>\n",
       "      <th>AppointmentDay</th>\n",
       "      <th>Age</th>\n",
       "      <th>Neighbourhood</th>\n",
       "      <th>Scholarship</th>\n",
       "      <th>Hipertension</th>\n",
       "      <th>Diabetes</th>\n",
       "      <th>Alcoholism</th>\n",
       "      <th>Handcap</th>\n",
       "      <th>SMS_received</th>\n",
       "      <th>No-show</th>\n",
       "    </tr>\n",
       "  </thead>\n",
       "  <tbody>\n",
       "    <tr>\n",
       "      <th>0</th>\n",
       "      <td>2.987250e+13</td>\n",
       "      <td>5642903</td>\n",
       "      <td>F</td>\n",
       "      <td>2016-04-29T18:38:08Z</td>\n",
       "      <td>2016-04-29T00:00:00Z</td>\n",
       "      <td>62</td>\n",
       "      <td>JARDIM DA PENHA</td>\n",
       "      <td>0</td>\n",
       "      <td>1</td>\n",
       "      <td>0</td>\n",
       "      <td>0</td>\n",
       "      <td>0</td>\n",
       "      <td>0</td>\n",
       "      <td>No</td>\n",
       "    </tr>\n",
       "    <tr>\n",
       "      <th>1</th>\n",
       "      <td>5.589978e+14</td>\n",
       "      <td>5642503</td>\n",
       "      <td>M</td>\n",
       "      <td>2016-04-29T16:08:27Z</td>\n",
       "      <td>2016-04-29T00:00:00Z</td>\n",
       "      <td>56</td>\n",
       "      <td>JARDIM DA PENHA</td>\n",
       "      <td>0</td>\n",
       "      <td>0</td>\n",
       "      <td>0</td>\n",
       "      <td>0</td>\n",
       "      <td>0</td>\n",
       "      <td>0</td>\n",
       "      <td>No</td>\n",
       "    </tr>\n",
       "    <tr>\n",
       "      <th>2</th>\n",
       "      <td>4.262962e+12</td>\n",
       "      <td>5642549</td>\n",
       "      <td>F</td>\n",
       "      <td>2016-04-29T16:19:04Z</td>\n",
       "      <td>2016-04-29T00:00:00Z</td>\n",
       "      <td>62</td>\n",
       "      <td>MATA DA PRAIA</td>\n",
       "      <td>0</td>\n",
       "      <td>0</td>\n",
       "      <td>0</td>\n",
       "      <td>0</td>\n",
       "      <td>0</td>\n",
       "      <td>0</td>\n",
       "      <td>No</td>\n",
       "    </tr>\n",
       "    <tr>\n",
       "      <th>3</th>\n",
       "      <td>8.679512e+11</td>\n",
       "      <td>5642828</td>\n",
       "      <td>F</td>\n",
       "      <td>2016-04-29T17:29:31Z</td>\n",
       "      <td>2016-04-29T00:00:00Z</td>\n",
       "      <td>8</td>\n",
       "      <td>PONTAL DE CAMBURI</td>\n",
       "      <td>0</td>\n",
       "      <td>0</td>\n",
       "      <td>0</td>\n",
       "      <td>0</td>\n",
       "      <td>0</td>\n",
       "      <td>0</td>\n",
       "      <td>No</td>\n",
       "    </tr>\n",
       "    <tr>\n",
       "      <th>4</th>\n",
       "      <td>8.841186e+12</td>\n",
       "      <td>5642494</td>\n",
       "      <td>F</td>\n",
       "      <td>2016-04-29T16:07:23Z</td>\n",
       "      <td>2016-04-29T00:00:00Z</td>\n",
       "      <td>56</td>\n",
       "      <td>JARDIM DA PENHA</td>\n",
       "      <td>0</td>\n",
       "      <td>1</td>\n",
       "      <td>1</td>\n",
       "      <td>0</td>\n",
       "      <td>0</td>\n",
       "      <td>0</td>\n",
       "      <td>No</td>\n",
       "    </tr>\n",
       "  </tbody>\n",
       "</table>\n",
       "</div>"
      ],
      "text/plain": [
       "      PatientId  AppointmentID Gender          ScheduledDay  \\\n",
       "0  2.987250e+13        5642903      F  2016-04-29T18:38:08Z   \n",
       "1  5.589978e+14        5642503      M  2016-04-29T16:08:27Z   \n",
       "2  4.262962e+12        5642549      F  2016-04-29T16:19:04Z   \n",
       "3  8.679512e+11        5642828      F  2016-04-29T17:29:31Z   \n",
       "4  8.841186e+12        5642494      F  2016-04-29T16:07:23Z   \n",
       "\n",
       "         AppointmentDay  Age      Neighbourhood  Scholarship  Hipertension  \\\n",
       "0  2016-04-29T00:00:00Z   62    JARDIM DA PENHA            0             1   \n",
       "1  2016-04-29T00:00:00Z   56    JARDIM DA PENHA            0             0   \n",
       "2  2016-04-29T00:00:00Z   62      MATA DA PRAIA            0             0   \n",
       "3  2016-04-29T00:00:00Z    8  PONTAL DE CAMBURI            0             0   \n",
       "4  2016-04-29T00:00:00Z   56    JARDIM DA PENHA            0             1   \n",
       "\n",
       "   Diabetes  Alcoholism  Handcap  SMS_received No-show  \n",
       "0         0           0        0             0      No  \n",
       "1         0           0        0             0      No  \n",
       "2         0           0        0             0      No  \n",
       "3         0           0        0             0      No  \n",
       "4         1           0        0             0      No  "
      ]
     },
     "execution_count": 4,
     "metadata": {},
     "output_type": "execute_result"
    }
   ],
   "source": [
    "#lets see top 5 samples of our data\n",
    "\n",
    "df.head(5)"
   ]
  },
  {
   "cell_type": "code",
   "execution_count": 5,
   "id": "5cb4d6bc",
   "metadata": {},
   "outputs": [
    {
     "name": "stdout",
     "output_type": "stream",
     "text": [
      "<class 'pandas.core.frame.DataFrame'>\n",
      "RangeIndex: 110527 entries, 0 to 110526\n",
      "Data columns (total 14 columns):\n",
      " #   Column          Non-Null Count   Dtype  \n",
      "---  ------          --------------   -----  \n",
      " 0   PatientId       110527 non-null  float64\n",
      " 1   AppointmentID   110527 non-null  int64  \n",
      " 2   Gender          110527 non-null  object \n",
      " 3   ScheduledDay    110527 non-null  object \n",
      " 4   AppointmentDay  110527 non-null  object \n",
      " 5   Age             110527 non-null  int64  \n",
      " 6   Neighbourhood   110527 non-null  object \n",
      " 7   Scholarship     110527 non-null  int64  \n",
      " 8   Hipertension    110527 non-null  int64  \n",
      " 9   Diabetes        110527 non-null  int64  \n",
      " 10  Alcoholism      110527 non-null  int64  \n",
      " 11  Handcap         110527 non-null  int64  \n",
      " 12  SMS_received    110527 non-null  int64  \n",
      " 13  No-show         110527 non-null  object \n",
      "dtypes: float64(1), int64(8), object(5)\n",
      "memory usage: 11.8+ MB\n"
     ]
    }
   ],
   "source": [
    "#Lets obtain more information about this dataset\n",
    "\n",
    "df.info()"
   ]
  },
  {
   "cell_type": "code",
   "execution_count": 6,
   "id": "56c19acd",
   "metadata": {},
   "outputs": [
    {
     "data": {
      "text/html": [
       "<div>\n",
       "<style scoped>\n",
       "    .dataframe tbody tr th:only-of-type {\n",
       "        vertical-align: middle;\n",
       "    }\n",
       "\n",
       "    .dataframe tbody tr th {\n",
       "        vertical-align: top;\n",
       "    }\n",
       "\n",
       "    .dataframe thead th {\n",
       "        text-align: right;\n",
       "    }\n",
       "</style>\n",
       "<table border=\"1\" class=\"dataframe\">\n",
       "  <thead>\n",
       "    <tr style=\"text-align: right;\">\n",
       "      <th></th>\n",
       "      <th>count</th>\n",
       "      <th>mean</th>\n",
       "      <th>std</th>\n",
       "      <th>min</th>\n",
       "      <th>25%</th>\n",
       "      <th>50%</th>\n",
       "      <th>75%</th>\n",
       "      <th>max</th>\n",
       "    </tr>\n",
       "  </thead>\n",
       "  <tbody>\n",
       "    <tr>\n",
       "      <th>PatientId</th>\n",
       "      <td>110527.0</td>\n",
       "      <td>1.474963e+14</td>\n",
       "      <td>2.560949e+14</td>\n",
       "      <td>3.921784e+04</td>\n",
       "      <td>4.172614e+12</td>\n",
       "      <td>3.173184e+13</td>\n",
       "      <td>9.439172e+13</td>\n",
       "      <td>9.999816e+14</td>\n",
       "    </tr>\n",
       "    <tr>\n",
       "      <th>AppointmentID</th>\n",
       "      <td>110527.0</td>\n",
       "      <td>5.675305e+06</td>\n",
       "      <td>7.129575e+04</td>\n",
       "      <td>5.030230e+06</td>\n",
       "      <td>5.640286e+06</td>\n",
       "      <td>5.680573e+06</td>\n",
       "      <td>5.725524e+06</td>\n",
       "      <td>5.790484e+06</td>\n",
       "    </tr>\n",
       "    <tr>\n",
       "      <th>Age</th>\n",
       "      <td>110527.0</td>\n",
       "      <td>3.708887e+01</td>\n",
       "      <td>2.311020e+01</td>\n",
       "      <td>-1.000000e+00</td>\n",
       "      <td>1.800000e+01</td>\n",
       "      <td>3.700000e+01</td>\n",
       "      <td>5.500000e+01</td>\n",
       "      <td>1.150000e+02</td>\n",
       "    </tr>\n",
       "    <tr>\n",
       "      <th>Scholarship</th>\n",
       "      <td>110527.0</td>\n",
       "      <td>9.826558e-02</td>\n",
       "      <td>2.976748e-01</td>\n",
       "      <td>0.000000e+00</td>\n",
       "      <td>0.000000e+00</td>\n",
       "      <td>0.000000e+00</td>\n",
       "      <td>0.000000e+00</td>\n",
       "      <td>1.000000e+00</td>\n",
       "    </tr>\n",
       "    <tr>\n",
       "      <th>Hipertension</th>\n",
       "      <td>110527.0</td>\n",
       "      <td>1.972459e-01</td>\n",
       "      <td>3.979213e-01</td>\n",
       "      <td>0.000000e+00</td>\n",
       "      <td>0.000000e+00</td>\n",
       "      <td>0.000000e+00</td>\n",
       "      <td>0.000000e+00</td>\n",
       "      <td>1.000000e+00</td>\n",
       "    </tr>\n",
       "    <tr>\n",
       "      <th>Diabetes</th>\n",
       "      <td>110527.0</td>\n",
       "      <td>7.186479e-02</td>\n",
       "      <td>2.582651e-01</td>\n",
       "      <td>0.000000e+00</td>\n",
       "      <td>0.000000e+00</td>\n",
       "      <td>0.000000e+00</td>\n",
       "      <td>0.000000e+00</td>\n",
       "      <td>1.000000e+00</td>\n",
       "    </tr>\n",
       "    <tr>\n",
       "      <th>Alcoholism</th>\n",
       "      <td>110527.0</td>\n",
       "      <td>3.039981e-02</td>\n",
       "      <td>1.716856e-01</td>\n",
       "      <td>0.000000e+00</td>\n",
       "      <td>0.000000e+00</td>\n",
       "      <td>0.000000e+00</td>\n",
       "      <td>0.000000e+00</td>\n",
       "      <td>1.000000e+00</td>\n",
       "    </tr>\n",
       "    <tr>\n",
       "      <th>Handcap</th>\n",
       "      <td>110527.0</td>\n",
       "      <td>2.224796e-02</td>\n",
       "      <td>1.615427e-01</td>\n",
       "      <td>0.000000e+00</td>\n",
       "      <td>0.000000e+00</td>\n",
       "      <td>0.000000e+00</td>\n",
       "      <td>0.000000e+00</td>\n",
       "      <td>4.000000e+00</td>\n",
       "    </tr>\n",
       "    <tr>\n",
       "      <th>SMS_received</th>\n",
       "      <td>110527.0</td>\n",
       "      <td>3.210256e-01</td>\n",
       "      <td>4.668727e-01</td>\n",
       "      <td>0.000000e+00</td>\n",
       "      <td>0.000000e+00</td>\n",
       "      <td>0.000000e+00</td>\n",
       "      <td>1.000000e+00</td>\n",
       "      <td>1.000000e+00</td>\n",
       "    </tr>\n",
       "  </tbody>\n",
       "</table>\n",
       "</div>"
      ],
      "text/plain": [
       "                  count          mean           std           min  \\\n",
       "PatientId      110527.0  1.474963e+14  2.560949e+14  3.921784e+04   \n",
       "AppointmentID  110527.0  5.675305e+06  7.129575e+04  5.030230e+06   \n",
       "Age            110527.0  3.708887e+01  2.311020e+01 -1.000000e+00   \n",
       "Scholarship    110527.0  9.826558e-02  2.976748e-01  0.000000e+00   \n",
       "Hipertension   110527.0  1.972459e-01  3.979213e-01  0.000000e+00   \n",
       "Diabetes       110527.0  7.186479e-02  2.582651e-01  0.000000e+00   \n",
       "Alcoholism     110527.0  3.039981e-02  1.716856e-01  0.000000e+00   \n",
       "Handcap        110527.0  2.224796e-02  1.615427e-01  0.000000e+00   \n",
       "SMS_received   110527.0  3.210256e-01  4.668727e-01  0.000000e+00   \n",
       "\n",
       "                        25%           50%           75%           max  \n",
       "PatientId      4.172614e+12  3.173184e+13  9.439172e+13  9.999816e+14  \n",
       "AppointmentID  5.640286e+06  5.680573e+06  5.725524e+06  5.790484e+06  \n",
       "Age            1.800000e+01  3.700000e+01  5.500000e+01  1.150000e+02  \n",
       "Scholarship    0.000000e+00  0.000000e+00  0.000000e+00  1.000000e+00  \n",
       "Hipertension   0.000000e+00  0.000000e+00  0.000000e+00  1.000000e+00  \n",
       "Diabetes       0.000000e+00  0.000000e+00  0.000000e+00  1.000000e+00  \n",
       "Alcoholism     0.000000e+00  0.000000e+00  0.000000e+00  1.000000e+00  \n",
       "Handcap        0.000000e+00  0.000000e+00  0.000000e+00  4.000000e+00  \n",
       "SMS_received   0.000000e+00  0.000000e+00  1.000000e+00  1.000000e+00  "
      ]
     },
     "execution_count": 6,
     "metadata": {},
     "output_type": "execute_result"
    }
   ],
   "source": [
    "#Lets obtain statistical info of our dataset. Transposing, we obtain the following values for each features.\n",
    "\n",
    "df.describe().T"
   ]
  },
  {
   "cell_type": "markdown",
   "id": "a7bc37bd",
   "metadata": {},
   "source": [
    "# Data Wrangling"
   ]
  },
  {
   "cell_type": "markdown",
   "id": "8c13f879",
   "metadata": {},
   "source": [
    "From the result obtained using .info(), we can see the datatype of each of our features. We noticed some features possess the wrong datatype which has to be changed later. Hence, the need for data wrangling\n",
    "\n",
    "Data wrangling involves removing erros and combining complex datasets to make them more accessible and easier to analyze. Common Problems to look out for before analysis can be done are as follows; Check for\n",
    "\n",
    "incorrect datatypes\n",
    "missing data\n",
    "duplicates\n",
    "structural problems like different column names\n",
    "mismatch number of records;"
   ]
  },
  {
   "cell_type": "code",
   "execution_count": 7,
   "id": "d2f264ae",
   "metadata": {},
   "outputs": [
    {
     "data": {
      "text/plain": [
       "False"
      ]
     },
     "execution_count": 7,
     "metadata": {},
     "output_type": "execute_result"
    }
   ],
   "source": [
    "#Checking for missing or null values\n",
    "\n",
    "df.isnull().sum().all()"
   ]
  },
  {
   "cell_type": "code",
   "execution_count": 8,
   "id": "3f86c21d",
   "metadata": {},
   "outputs": [
    {
     "data": {
      "text/plain": [
       "0"
      ]
     },
     "execution_count": 8,
     "metadata": {},
     "output_type": "execute_result"
    }
   ],
   "source": [
    "#Checking for duplicates\n",
    "\n",
    "df.duplicated().sum()"
   ]
  },
  {
   "cell_type": "code",
   "execution_count": 9,
   "id": "409108f3",
   "metadata": {},
   "outputs": [
    {
     "data": {
      "text/plain": [
       " 0      3539\n",
       " 1      2273\n",
       " 52     1746\n",
       " 49     1652\n",
       " 53     1651\n",
       "        ... \n",
       " 115       5\n",
       " 100       4\n",
       " 102       2\n",
       " 99        1\n",
       "-1         1\n",
       "Name: Age, Length: 104, dtype: int64"
      ]
     },
     "execution_count": 9,
     "metadata": {},
     "output_type": "execute_result"
    }
   ],
   "source": [
    "#Checking the Age features\n",
    "\n",
    "df.Age.value_counts()"
   ]
  },
  {
   "cell_type": "code",
   "execution_count": 10,
   "id": "1328ba50",
   "metadata": {},
   "outputs": [
    {
     "data": {
      "text/plain": [
       "JARDIM CAMBURI                 7717\n",
       "MARIA ORTIZ                    5805\n",
       "RESISTÊNCIA                    4431\n",
       "JARDIM DA PENHA                3877\n",
       "ITARARÉ                        3514\n",
       "                               ... \n",
       "ILHA DO BOI                      35\n",
       "ILHA DO FRADE                    10\n",
       "AEROPORTO                         8\n",
       "ILHAS OCEÂNICAS DE TRINDADE       2\n",
       "PARQUE INDUSTRIAL                 1\n",
       "Name: Neighbourhood, Length: 81, dtype: int64"
      ]
     },
     "execution_count": 10,
     "metadata": {},
     "output_type": "execute_result"
    }
   ],
   "source": [
    "#Categorizing Neighbourhood\n",
    "\n",
    "df.Neighbourhood.value_counts()"
   ]
  },
  {
   "cell_type": "code",
   "execution_count": 11,
   "id": "ba506da6",
   "metadata": {},
   "outputs": [
    {
     "data": {
      "text/plain": [
       "0    108286\n",
       "1      2042\n",
       "2       183\n",
       "3        13\n",
       "4         3\n",
       "Name: Handcap, dtype: int64"
      ]
     },
     "execution_count": 11,
     "metadata": {},
     "output_type": "execute_result"
    }
   ],
   "source": [
    "#Categorizing Handicap\n",
    "\n",
    "df.Handcap.value_counts()"
   ]
  },
  {
   "cell_type": "code",
   "execution_count": 12,
   "id": "c70bbcf7",
   "metadata": {},
   "outputs": [
    {
     "data": {
      "text/html": [
       "<div>\n",
       "<style scoped>\n",
       "    .dataframe tbody tr th:only-of-type {\n",
       "        vertical-align: middle;\n",
       "    }\n",
       "\n",
       "    .dataframe tbody tr th {\n",
       "        vertical-align: top;\n",
       "    }\n",
       "\n",
       "    .dataframe thead th {\n",
       "        text-align: right;\n",
       "    }\n",
       "</style>\n",
       "<table border=\"1\" class=\"dataframe\">\n",
       "  <thead>\n",
       "    <tr style=\"text-align: right;\">\n",
       "      <th></th>\n",
       "      <th>PatientId</th>\n",
       "      <th>AppointmentID</th>\n",
       "      <th>Gender</th>\n",
       "      <th>ScheduledDay</th>\n",
       "      <th>AppointmentDay</th>\n",
       "      <th>Age</th>\n",
       "      <th>Neighbourhood</th>\n",
       "      <th>Scholarship</th>\n",
       "      <th>Hipertension</th>\n",
       "      <th>Diabetes</th>\n",
       "      <th>Alcoholism</th>\n",
       "      <th>Handcap</th>\n",
       "      <th>SMS_received</th>\n",
       "      <th>No-show</th>\n",
       "    </tr>\n",
       "  </thead>\n",
       "  <tbody>\n",
       "    <tr>\n",
       "      <th>99832</th>\n",
       "      <td>4.659432e+14</td>\n",
       "      <td>5775010</td>\n",
       "      <td>F</td>\n",
       "      <td>2016-06-06T08:58:13Z</td>\n",
       "      <td>2016-06-06T00:00:00Z</td>\n",
       "      <td>-1</td>\n",
       "      <td>ROMÃO</td>\n",
       "      <td>0</td>\n",
       "      <td>0</td>\n",
       "      <td>0</td>\n",
       "      <td>0</td>\n",
       "      <td>0</td>\n",
       "      <td>0</td>\n",
       "      <td>No</td>\n",
       "    </tr>\n",
       "  </tbody>\n",
       "</table>\n",
       "</div>"
      ],
      "text/plain": [
       "          PatientId  AppointmentID Gender          ScheduledDay  \\\n",
       "99832  4.659432e+14        5775010      F  2016-06-06T08:58:13Z   \n",
       "\n",
       "             AppointmentDay  Age Neighbourhood  Scholarship  Hipertension  \\\n",
       "99832  2016-06-06T00:00:00Z   -1         ROMÃO            0             0   \n",
       "\n",
       "       Diabetes  Alcoholism  Handcap  SMS_received No-show  \n",
       "99832         0           0        0             0      No  "
      ]
     },
     "execution_count": 12,
     "metadata": {},
     "output_type": "execute_result"
    }
   ],
   "source": [
    "#From the above result, we know in reality that no person age can be -1, hence, lets locate the sample with age -1\n",
    "\n",
    "df[df['Age'] == -1]"
   ]
  },
  {
   "cell_type": "code",
   "execution_count": 13,
   "id": "e044d787",
   "metadata": {},
   "outputs": [],
   "source": [
    "#replace the -1 age with 0, since its impossible for age to be -1\n",
    "\n",
    "df.Age.replace({-1:0},inplace=True)"
   ]
  },
  {
   "cell_type": "code",
   "execution_count": 14,
   "id": "10b64184",
   "metadata": {},
   "outputs": [],
   "source": [
    "#AppointmentID wont make an significance in our prediction and so, we should remove this\n",
    "\n",
    "df.drop(['AppointmentID'],axis=1,inplace=True)"
   ]
  },
  {
   "cell_type": "code",
   "execution_count": 15,
   "id": "5267188d",
   "metadata": {},
   "outputs": [
    {
     "data": {
      "text/html": [
       "<div>\n",
       "<style scoped>\n",
       "    .dataframe tbody tr th:only-of-type {\n",
       "        vertical-align: middle;\n",
       "    }\n",
       "\n",
       "    .dataframe tbody tr th {\n",
       "        vertical-align: top;\n",
       "    }\n",
       "\n",
       "    .dataframe thead th {\n",
       "        text-align: right;\n",
       "    }\n",
       "</style>\n",
       "<table border=\"1\" class=\"dataframe\">\n",
       "  <thead>\n",
       "    <tr style=\"text-align: right;\">\n",
       "      <th></th>\n",
       "      <th>PatientId</th>\n",
       "      <th>Gender</th>\n",
       "      <th>ScheduledDay</th>\n",
       "      <th>AppointmentDay</th>\n",
       "      <th>Age</th>\n",
       "      <th>Neighbourhood</th>\n",
       "      <th>Scholarship</th>\n",
       "      <th>Hipertension</th>\n",
       "      <th>Diabetes</th>\n",
       "      <th>Alcoholism</th>\n",
       "      <th>Handcap</th>\n",
       "      <th>SMS_received</th>\n",
       "      <th>No-show</th>\n",
       "    </tr>\n",
       "  </thead>\n",
       "  <tbody>\n",
       "    <tr>\n",
       "      <th>0</th>\n",
       "      <td>2.987250e+13</td>\n",
       "      <td>F</td>\n",
       "      <td>2016-04-29T18:38:08Z</td>\n",
       "      <td>2016-04-29T00:00:00Z</td>\n",
       "      <td>62</td>\n",
       "      <td>JARDIM DA PENHA</td>\n",
       "      <td>0</td>\n",
       "      <td>1</td>\n",
       "      <td>0</td>\n",
       "      <td>0</td>\n",
       "      <td>0</td>\n",
       "      <td>0</td>\n",
       "      <td>No</td>\n",
       "    </tr>\n",
       "    <tr>\n",
       "      <th>1</th>\n",
       "      <td>5.589978e+14</td>\n",
       "      <td>M</td>\n",
       "      <td>2016-04-29T16:08:27Z</td>\n",
       "      <td>2016-04-29T00:00:00Z</td>\n",
       "      <td>56</td>\n",
       "      <td>JARDIM DA PENHA</td>\n",
       "      <td>0</td>\n",
       "      <td>0</td>\n",
       "      <td>0</td>\n",
       "      <td>0</td>\n",
       "      <td>0</td>\n",
       "      <td>0</td>\n",
       "      <td>No</td>\n",
       "    </tr>\n",
       "    <tr>\n",
       "      <th>2</th>\n",
       "      <td>4.262962e+12</td>\n",
       "      <td>F</td>\n",
       "      <td>2016-04-29T16:19:04Z</td>\n",
       "      <td>2016-04-29T00:00:00Z</td>\n",
       "      <td>62</td>\n",
       "      <td>MATA DA PRAIA</td>\n",
       "      <td>0</td>\n",
       "      <td>0</td>\n",
       "      <td>0</td>\n",
       "      <td>0</td>\n",
       "      <td>0</td>\n",
       "      <td>0</td>\n",
       "      <td>No</td>\n",
       "    </tr>\n",
       "    <tr>\n",
       "      <th>3</th>\n",
       "      <td>8.679512e+11</td>\n",
       "      <td>F</td>\n",
       "      <td>2016-04-29T17:29:31Z</td>\n",
       "      <td>2016-04-29T00:00:00Z</td>\n",
       "      <td>8</td>\n",
       "      <td>PONTAL DE CAMBURI</td>\n",
       "      <td>0</td>\n",
       "      <td>0</td>\n",
       "      <td>0</td>\n",
       "      <td>0</td>\n",
       "      <td>0</td>\n",
       "      <td>0</td>\n",
       "      <td>No</td>\n",
       "    </tr>\n",
       "    <tr>\n",
       "      <th>4</th>\n",
       "      <td>8.841186e+12</td>\n",
       "      <td>F</td>\n",
       "      <td>2016-04-29T16:07:23Z</td>\n",
       "      <td>2016-04-29T00:00:00Z</td>\n",
       "      <td>56</td>\n",
       "      <td>JARDIM DA PENHA</td>\n",
       "      <td>0</td>\n",
       "      <td>1</td>\n",
       "      <td>1</td>\n",
       "      <td>0</td>\n",
       "      <td>0</td>\n",
       "      <td>0</td>\n",
       "      <td>No</td>\n",
       "    </tr>\n",
       "  </tbody>\n",
       "</table>\n",
       "</div>"
      ],
      "text/plain": [
       "      PatientId Gender          ScheduledDay        AppointmentDay  Age  \\\n",
       "0  2.987250e+13      F  2016-04-29T18:38:08Z  2016-04-29T00:00:00Z   62   \n",
       "1  5.589978e+14      M  2016-04-29T16:08:27Z  2016-04-29T00:00:00Z   56   \n",
       "2  4.262962e+12      F  2016-04-29T16:19:04Z  2016-04-29T00:00:00Z   62   \n",
       "3  8.679512e+11      F  2016-04-29T17:29:31Z  2016-04-29T00:00:00Z    8   \n",
       "4  8.841186e+12      F  2016-04-29T16:07:23Z  2016-04-29T00:00:00Z   56   \n",
       "\n",
       "       Neighbourhood  Scholarship  Hipertension  Diabetes  Alcoholism  \\\n",
       "0    JARDIM DA PENHA            0             1         0           0   \n",
       "1    JARDIM DA PENHA            0             0         0           0   \n",
       "2      MATA DA PRAIA            0             0         0           0   \n",
       "3  PONTAL DE CAMBURI            0             0         0           0   \n",
       "4    JARDIM DA PENHA            0             1         1           0   \n",
       "\n",
       "   Handcap  SMS_received No-show  \n",
       "0        0             0      No  \n",
       "1        0             0      No  \n",
       "2        0             0      No  \n",
       "3        0             0      No  \n",
       "4        0             0      No  "
      ]
     },
     "execution_count": 15,
     "metadata": {},
     "output_type": "execute_result"
    }
   ],
   "source": [
    "df.head()"
   ]
  },
  {
   "cell_type": "code",
   "execution_count": 16,
   "id": "2325a9df",
   "metadata": {},
   "outputs": [
    {
     "data": {
      "text/plain": [
       "618"
      ]
     },
     "execution_count": 16,
     "metadata": {},
     "output_type": "execute_result"
    }
   ],
   "source": [
    "#Checking for duplicates again. Though the dataset shows duplicates after the appointmentid was removed but this cant be removed cos these data seems to be very important\n",
    "\n",
    "df.duplicated().sum()"
   ]
  },
  {
   "cell_type": "code",
   "execution_count": 17,
   "id": "1879dc1b",
   "metadata": {},
   "outputs": [],
   "source": [
    "#Renaming the columns\n",
    "\n",
    "df.rename(columns={'Hipertension':'Hypertension', 'Handcap': 'Handicap', 'No-show': 'No_show'},inplace=True)"
   ]
  },
  {
   "cell_type": "markdown",
   "id": "be74bbda",
   "metadata": {},
   "source": [
    "#### Solving datatype issues for each features"
   ]
  },
  {
   "cell_type": "code",
   "execution_count": 18,
   "id": "d419a573",
   "metadata": {},
   "outputs": [],
   "source": [
    "#Converting scholarship, hypertension, diabetes, alcoholism and sms_received to booleans\n",
    "\n",
    "for b in ['Scholarship', 'Hypertension', 'Diabetes', 'Alcoholism', 'SMS_received']:\n",
    "    df[b] = df[b].astype('bool')"
   ]
  },
  {
   "cell_type": "code",
   "execution_count": 19,
   "id": "2132adf1",
   "metadata": {},
   "outputs": [],
   "source": [
    "#Converting ScheduledDay and AppointmentDay to datetime dtype\n",
    "\n",
    "for b in ['ScheduledDay', 'AppointmentDay']:\n",
    "    df[b] = pd.to_datetime(df[b])"
   ]
  },
  {
   "cell_type": "code",
   "execution_count": 20,
   "id": "5a5aa6b1",
   "metadata": {},
   "outputs": [],
   "source": [
    "#Converting Gender, Neighbourhood, handicap\n",
    "\n",
    "for b in ['Gender', 'Neighbourhood', 'Handicap']:\n",
    "    df[b] = df[b].astype('category')"
   ]
  },
  {
   "cell_type": "markdown",
   "id": "98d0f3eb",
   "metadata": {},
   "source": [
    "From the no_show column, we know when the response is NO, it means the patient made it for the appointment but when it's YES, it means the patient didnt make it."
   ]
  },
  {
   "cell_type": "code",
   "execution_count": 21,
   "id": "a143a22e",
   "metadata": {},
   "outputs": [],
   "source": [
    "#Replacing NO and YES with 0 and 1 inorder to easily convert the datatype\n",
    "\n",
    "df.No_show.replace({'No': 1, 'Yes': 0},inplace=True)"
   ]
  },
  {
   "cell_type": "code",
   "execution_count": 22,
   "id": "b386787e",
   "metadata": {},
   "outputs": [],
   "source": [
    "df.No_show = df.No_show.astype('bool')"
   ]
  },
  {
   "cell_type": "code",
   "execution_count": 23,
   "id": "cf99adca",
   "metadata": {},
   "outputs": [
    {
     "data": {
      "text/plain": [
       "PatientId                     float64\n",
       "Gender                       category\n",
       "ScheduledDay      datetime64[ns, UTC]\n",
       "AppointmentDay    datetime64[ns, UTC]\n",
       "Age                             int64\n",
       "Neighbourhood                category\n",
       "Scholarship                      bool\n",
       "Hypertension                     bool\n",
       "Diabetes                         bool\n",
       "Alcoholism                       bool\n",
       "Handicap                     category\n",
       "SMS_received                     bool\n",
       "No_show                          bool\n",
       "dtype: object"
      ]
     },
     "execution_count": 23,
     "metadata": {},
     "output_type": "execute_result"
    }
   ],
   "source": [
    "df.dtypes"
   ]
  },
  {
   "cell_type": "code",
   "execution_count": 24,
   "id": "20c8b458",
   "metadata": {},
   "outputs": [
    {
     "data": {
      "text/plain": [
       "True     88208\n",
       "False    22319\n",
       "Name: No_show, dtype: int64"
      ]
     },
     "execution_count": 24,
     "metadata": {},
     "output_type": "execute_result"
    }
   ],
   "source": [
    "#Checking our No_show feature\n",
    "\n",
    "df.No_show.value_counts()"
   ]
  },
  {
   "cell_type": "markdown",
   "id": "cdd35c5e",
   "metadata": {},
   "source": [
    "Questions to solve;\n",
    "\n",
    "1. What's the age of men that showed up the most for their appointment?\n",
    "2. What's the proportion of male to female who showed up for their appointment?\n",
    "3. What's the relationship between (age and gender), (gender and No_show), (age, gender and No_show)?\n",
    "4. What's the number of males with hypertension that showed up for their appointment?"
   ]
  },
  {
   "cell_type": "markdown",
   "id": "97242874",
   "metadata": {},
   "source": [
    "# Exploratory Data Analysis (EDA)"
   ]
  },
  {
   "cell_type": "markdown",
   "id": "4df4aff1",
   "metadata": {},
   "source": [
    "No_show"
   ]
  },
  {
   "cell_type": "code",
   "execution_count": 25,
   "id": "b3809a83",
   "metadata": {},
   "outputs": [
    {
     "data": {
      "text/plain": [
       "88208"
      ]
     },
     "execution_count": 25,
     "metadata": {},
     "output_type": "execute_result"
    }
   ],
   "source": [
    "#The number of people that did show up for an appointment. No_show is True i.e 1, if the patient showed up and False i.e 0, if the patient didnt show up\n",
    "\n",
    "df[df['No_show'] == 1].No_show.count()"
   ]
  },
  {
   "cell_type": "code",
   "execution_count": 26,
   "id": "01d47e25",
   "metadata": {},
   "outputs": [
    {
     "data": {
      "text/plain": [
       "22319"
      ]
     },
     "execution_count": 26,
     "metadata": {},
     "output_type": "execute_result"
    }
   ],
   "source": [
    "#The number of people that didnt show up for an appointment\n",
    "\n",
    "df[df['No_show'] == 0].No_show.count()"
   ]
  },
  {
   "cell_type": "markdown",
   "id": "3746ca45",
   "metadata": {},
   "source": [
    "AppointmentDay"
   ]
  },
  {
   "cell_type": "code",
   "execution_count": 27,
   "id": "e1abc8ef",
   "metadata": {},
   "outputs": [
    {
     "data": {
      "text/plain": [
       "Timestamp('2016-04-29 00:00:00+0000', tz='UTC')"
      ]
     },
     "execution_count": 27,
     "metadata": {},
     "output_type": "execute_result"
    }
   ],
   "source": [
    "#The day with the lowest attendance\n",
    "\n",
    "df.AppointmentDay.min()"
   ]
  },
  {
   "cell_type": "code",
   "execution_count": 28,
   "id": "e6110872",
   "metadata": {},
   "outputs": [
    {
     "data": {
      "text/plain": [
       "39"
      ]
     },
     "execution_count": 28,
     "metadata": {},
     "output_type": "execute_result"
    }
   ],
   "source": [
    "#The number of patients on the above day\n",
    "\n",
    "df.AppointmentDay.value_counts().min()"
   ]
  },
  {
   "cell_type": "code",
   "execution_count": 29,
   "id": "05262e20",
   "metadata": {},
   "outputs": [
    {
     "data": {
      "text/plain": [
       "Timestamp('2016-06-08 00:00:00+0000', tz='UTC')"
      ]
     },
     "execution_count": 29,
     "metadata": {},
     "output_type": "execute_result"
    }
   ],
   "source": [
    "#The day with the highest attendance\n",
    "\n",
    "df.AppointmentDay.max()"
   ]
  },
  {
   "cell_type": "code",
   "execution_count": 30,
   "id": "076f35fc",
   "metadata": {},
   "outputs": [
    {
     "data": {
      "text/plain": [
       "4692"
      ]
     },
     "execution_count": 30,
     "metadata": {},
     "output_type": "execute_result"
    }
   ],
   "source": [
    "#The number of patients on the above day\n",
    "\n",
    "df.AppointmentDay.value_counts().max()"
   ]
  },
  {
   "cell_type": "markdown",
   "id": "99f539f7",
   "metadata": {},
   "source": [
    "Gender"
   ]
  },
  {
   "cell_type": "code",
   "execution_count": 31,
   "id": "8a8626a7",
   "metadata": {},
   "outputs": [
    {
     "data": {
      "text/plain": [
       "Gender\n",
       "F    71840\n",
       "M    38687\n",
       "Name: Age, dtype: int64"
      ]
     },
     "execution_count": 31,
     "metadata": {},
     "output_type": "execute_result"
    }
   ],
   "source": [
    "#Total values of male and female patients\n",
    "\n",
    "total_gender = df.groupby('Gender').count().Age\n",
    "total_gender"
   ]
  },
  {
   "cell_type": "markdown",
   "id": "c386b258",
   "metadata": {},
   "source": [
    "Neighbourhood"
   ]
  },
  {
   "cell_type": "code",
   "execution_count": 32,
   "id": "ad86a008",
   "metadata": {},
   "outputs": [
    {
     "data": {
      "text/plain": [
       "JARDIM CAMBURI                 7717\n",
       "MARIA ORTIZ                    5805\n",
       "RESISTÊNCIA                    4431\n",
       "JARDIM DA PENHA                3877\n",
       "ITARARÉ                        3514\n",
       "                               ... \n",
       "ILHA DO BOI                      35\n",
       "ILHA DO FRADE                    10\n",
       "AEROPORTO                         8\n",
       "ILHAS OCEÂNICAS DE TRINDADE       2\n",
       "PARQUE INDUSTRIAL                 1\n",
       "Name: Neighbourhood, Length: 81, dtype: int64"
      ]
     },
     "execution_count": 32,
     "metadata": {},
     "output_type": "execute_result"
    }
   ],
   "source": [
    "df.Neighbourhood.value_counts()"
   ]
  },
  {
   "cell_type": "code",
   "execution_count": 33,
   "id": "acb62879",
   "metadata": {},
   "outputs": [
    {
     "data": {
      "text/plain": [
       "Text(0, 0.5, 'Number of patients')"
      ]
     },
     "execution_count": 33,
     "metadata": {},
     "output_type": "execute_result"
    },
    {
     "data": {
      "image/png": "[encoded data removed]",
      "text/plain": [
       "<Figure size 432x288 with 1 Axes>"
      ]
     },
     "metadata": {},
     "output_type": "display_data"
    }
   ],
   "source": [
    "df.Neighbourhood.value_counts().plot(kind='bar',title='Neighbourhood and number of patients',alpha=1)\n",
    "plt.xlabel('Neighbourhood', fontsize=18)\n",
    "plt.ylabel('Number of patients', fontsize=18)"
   ]
  },
  {
   "cell_type": "markdown",
   "id": "a2ba6189",
   "metadata": {},
   "source": [
    "Hypertension"
   ]
  },
  {
   "cell_type": "code",
   "execution_count": 34,
   "id": "3318640c",
   "metadata": {},
   "outputs": [
    {
     "data": {
      "text/plain": [
       "False    88726\n",
       "True     21801\n",
       "Name: Hypertension, dtype: int64"
      ]
     },
     "execution_count": 34,
     "metadata": {},
     "output_type": "execute_result"
    }
   ],
   "source": [
    "df.Hypertension.value_counts()"
   ]
  },
  {
   "cell_type": "markdown",
   "id": "efae9ba9",
   "metadata": {},
   "source": [
    "Relationships between two variables;"
   ]
  },
  {
   "cell_type": "code",
   "execution_count": 35,
   "id": "01007590",
   "metadata": {},
   "outputs": [
    {
     "data": {
      "text/plain": [
       "Age  No_show\n",
       "0    True       2901\n",
       "     False       639\n",
       "1    True       1858\n",
       "     False       415\n",
       "2    True       1366\n",
       "                ... \n",
       "99   True          1\n",
       "100  True          4\n",
       "102  True          2\n",
       "115  False         3\n",
       "     True          2\n",
       "Name: No_show, Length: 203, dtype: int64"
      ]
     },
     "execution_count": 35,
     "metadata": {},
     "output_type": "execute_result"
    }
   ],
   "source": [
    "#Age and patients that showed up\n",
    "\n",
    "df.groupby('Age').No_show.value_counts()"
   ]
  },
  {
   "cell_type": "code",
   "execution_count": 36,
   "id": "74cf3662",
   "metadata": {},
   "outputs": [
    {
     "data": {
      "text/plain": [
       "0      1722\n",
       "30     1164\n",
       "56     1151\n",
       "52     1149\n",
       "53     1147\n",
       "       ... \n",
       "115       5\n",
       "98        5\n",
       "102       2\n",
       "100       2\n",
       "99        1\n",
       "Name: Age, Length: 103, dtype: int64"
      ]
     },
     "execution_count": 36,
     "metadata": {},
     "output_type": "execute_result"
    }
   ],
   "source": [
    "#Females and their age range\n",
    "\n",
    "df.query('Gender == \"F\"').Age.value_counts()"
   ]
  },
  {
   "cell_type": "code",
   "execution_count": 37,
   "id": "5f002ea7",
   "metadata": {},
   "outputs": [
    {
     "data": {
      "text/plain": [
       "115"
      ]
     },
     "execution_count": 37,
     "metadata": {},
     "output_type": "execute_result"
    }
   ],
   "source": [
    "df.query('Gender == \"F\"').Age.max()"
   ]
  },
  {
   "cell_type": "code",
   "execution_count": 38,
   "id": "72c6fb2b",
   "metadata": {},
   "outputs": [
    {
     "data": {
      "text/plain": [
       "0      1818\n",
       "1      1185\n",
       "2       861\n",
       "5       832\n",
       "9       786\n",
       "       ... \n",
       "95        6\n",
       "96        4\n",
       "97        2\n",
       "100       2\n",
       "98        1\n",
       "Name: Age, Length: 100, dtype: int64"
      ]
     },
     "execution_count": 38,
     "metadata": {},
     "output_type": "execute_result"
    }
   ],
   "source": [
    "#males and their age range\n",
    "\n",
    "df.query('Gender == \"M\"').Age.value_counts()"
   ]
  },
  {
   "cell_type": "code",
   "execution_count": 39,
   "id": "5917942b",
   "metadata": {},
   "outputs": [
    {
     "data": {
      "text/plain": [
       "100"
      ]
     },
     "execution_count": 39,
     "metadata": {},
     "output_type": "execute_result"
    }
   ],
   "source": [
    "df.query('Gender == \"M\"').Age.max()"
   ]
  },
  {
   "cell_type": "code",
   "execution_count": 40,
   "id": "c5690eeb",
   "metadata": {},
   "outputs": [
    {
     "data": {
      "text/plain": [
       "Gender  No_show\n",
       "F       False      14594\n",
       "        True       57246\n",
       "M       False       7725\n",
       "        True       30962\n",
       "Name: Gender, dtype: int64"
      ]
     },
     "execution_count": 40,
     "metadata": {},
     "output_type": "execute_result"
    }
   ],
   "source": [
    "#Find the number of males and females that showed up for their appointment i.e Gender and No_show\n",
    "\n",
    "No_show_by_gender = df.groupby(['Gender', 'No_show'])['Gender'].count()\n",
    "No_show_by_gender"
   ]
  },
  {
   "cell_type": "code",
   "execution_count": 41,
   "id": "7cbf1019",
   "metadata": {},
   "outputs": [
    {
     "data": {
      "text/plain": [
       "count        4.000000\n",
       "mean     27631.750000\n",
       "std      22017.841165\n",
       "min       7725.000000\n",
       "25%      12876.750000\n",
       "50%      22778.000000\n",
       "75%      37533.000000\n",
       "max      57246.000000\n",
       "Name: Gender, dtype: float64"
      ]
     },
     "execution_count": 41,
     "metadata": {},
     "output_type": "execute_result"
    }
   ],
   "source": [
    "No_show_by_gender.describe(include='all')"
   ]
  },
  {
   "cell_type": "code",
   "execution_count": 42,
   "id": "98a4bdc8",
   "metadata": {},
   "outputs": [
    {
     "data": {
      "text/plain": [
       "No_show\n",
       "False    0.203146\n",
       "True     0.796854\n",
       "Name: Gender, dtype: float64"
      ]
     },
     "execution_count": 42,
     "metadata": {},
     "output_type": "execute_result"
    }
   ],
   "source": [
    "#Calculate frequencies of No_show for females\n",
    "\n",
    "No_show_femaleProp = No_show_by_gender['F']/total_gender['F']\n",
    "No_show_femaleProp"
   ]
  },
  {
   "cell_type": "code",
   "execution_count": 43,
   "id": "41aa87ec",
   "metadata": {},
   "outputs": [
    {
     "data": {
      "text/plain": [
       "No_show\n",
       "False    0.199679\n",
       "True     0.800321\n",
       "Name: Gender, dtype: float64"
      ]
     },
     "execution_count": 43,
     "metadata": {},
     "output_type": "execute_result"
    }
   ],
   "source": [
    "#Calculate frequencies of No_show for males\n",
    "\n",
    "No_show_maleProp = No_show_by_gender['M']/total_gender['M']\n",
    "No_show_maleProp"
   ]
  },
  {
   "cell_type": "code",
   "execution_count": 44,
   "id": "bdadba31",
   "metadata": {},
   "outputs": [
    {
     "data": {
      "text/plain": [
       "Gender  Neighbourhood    \n",
       "F       JARDIM CAMBURI       5144\n",
       "        MARIA ORTIZ          3735\n",
       "        RESISTÊNCIA          2913\n",
       "        JARDIM DA PENHA      2665\n",
       "        ITARARÉ              2266\n",
       "                             ... \n",
       "M       MORADA DE CAMBURI      30\n",
       "        PONTAL DE CAMBURI      23\n",
       "        ILHA DO BOI            16\n",
       "        ILHA DO FRADE          10\n",
       "        AEROPORTO               3\n",
       "Name: Neighbourhood, Length: 159, dtype: int64"
      ]
     },
     "execution_count": 44,
     "metadata": {},
     "output_type": "execute_result"
    }
   ],
   "source": [
    "#Gender and Neighbourhood\n",
    "\n",
    "df.groupby('Gender').Neighbourhood.value_counts()"
   ]
  },
  {
   "cell_type": "code",
   "execution_count": 45,
   "id": "3b7d1ac3",
   "metadata": {},
   "outputs": [
    {
     "data": {
      "text/plain": [
       "ILHA DO PRÍNCIPE     579\n",
       "TABUAZEIRO           537\n",
       "RESISTÊNCIA          468\n",
       "CARATOÍRA            456\n",
       "SANTA MARTHA         441\n",
       "                    ... \n",
       "PRAIA DO CANTO         0\n",
       "PARQUE INDUSTRIAL      0\n",
       "BARRO VERMELHO         0\n",
       "MORADA DE CAMBURI      0\n",
       "AEROPORTO              0\n",
       "Name: Neighbourhood, Length: 81, dtype: int64"
      ]
     },
     "execution_count": 45,
     "metadata": {},
     "output_type": "execute_result"
    }
   ],
   "source": [
    "#Neighbourhood with their patients that were awarded a scholarship\n",
    "\n",
    "df.query('Scholarship == True').Neighbourhood.value_counts()"
   ]
  },
  {
   "cell_type": "code",
   "execution_count": 46,
   "id": "2cbbb8b7",
   "metadata": {},
   "outputs": [
    {
     "data": {
      "text/plain": [
       "JARDIM CAMBURI                 6252\n",
       "MARIA ORTIZ                    4586\n",
       "RESISTÊNCIA                    3525\n",
       "JARDIM DA PENHA                3246\n",
       "SANTA MARTHA                   2635\n",
       "                               ... \n",
       "ILHA DO BOI                      32\n",
       "ILHA DO FRADE                     8\n",
       "AEROPORTO                         7\n",
       "PARQUE INDUSTRIAL                 1\n",
       "ILHAS OCEÂNICAS DE TRINDADE       0\n",
       "Name: Neighbourhood, Length: 81, dtype: int64"
      ]
     },
     "execution_count": 46,
     "metadata": {},
     "output_type": "execute_result"
    }
   ],
   "source": [
    "#Neighbourhoods with their patients that showed up\n",
    "\n",
    "df.query('No_show == True').Neighbourhood.value_counts()"
   ]
  },
  {
   "cell_type": "code",
   "execution_count": 47,
   "id": "c98c4c53",
   "metadata": {},
   "outputs": [
    {
     "data": {
      "text/plain": [
       "count      81.000000\n",
       "mean     1088.987654\n",
       "std      1096.260581\n",
       "min         0.000000\n",
       "25%       321.000000\n",
       "50%       709.000000\n",
       "75%      1562.000000\n",
       "max      6252.000000\n",
       "Name: Neighbourhood, dtype: float64"
      ]
     },
     "execution_count": 47,
     "metadata": {},
     "output_type": "execute_result"
    }
   ],
   "source": [
    "#Statisical rep of the relationship between Neighbourhood and No_show\n",
    "\n",
    "df.query('No_show == True').Neighbourhood.value_counts().describe(include='all')"
   ]
  },
  {
   "cell_type": "code",
   "execution_count": 48,
   "id": "6e1def52",
   "metadata": {},
   "outputs": [
    {
     "data": {
      "text/html": [
       "<div>\n",
       "<style scoped>\n",
       "    .dataframe tbody tr th:only-of-type {\n",
       "        vertical-align: middle;\n",
       "    }\n",
       "\n",
       "    .dataframe tbody tr th {\n",
       "        vertical-align: top;\n",
       "    }\n",
       "\n",
       "    .dataframe thead th {\n",
       "        text-align: right;\n",
       "    }\n",
       "</style>\n",
       "<table border=\"1\" class=\"dataframe\">\n",
       "  <thead>\n",
       "    <tr style=\"text-align: right;\">\n",
       "      <th></th>\n",
       "      <th>PatientId</th>\n",
       "      <th>Age</th>\n",
       "      <th>Scholarship</th>\n",
       "      <th>Hypertension</th>\n",
       "      <th>Diabetes</th>\n",
       "      <th>Alcoholism</th>\n",
       "      <th>SMS_received</th>\n",
       "      <th>No_show</th>\n",
       "    </tr>\n",
       "  </thead>\n",
       "  <tbody>\n",
       "    <tr>\n",
       "      <th>PatientId</th>\n",
       "      <td>1.000000</td>\n",
       "      <td>-0.004139</td>\n",
       "      <td>-0.002880</td>\n",
       "      <td>-0.006441</td>\n",
       "      <td>0.001605</td>\n",
       "      <td>0.011011</td>\n",
       "      <td>-0.009749</td>\n",
       "      <td>0.001461</td>\n",
       "    </tr>\n",
       "    <tr>\n",
       "      <th>Age</th>\n",
       "      <td>-0.004139</td>\n",
       "      <td>1.000000</td>\n",
       "      <td>-0.092457</td>\n",
       "      <td>0.504586</td>\n",
       "      <td>0.292392</td>\n",
       "      <td>0.095811</td>\n",
       "      <td>0.012643</td>\n",
       "      <td>0.060319</td>\n",
       "    </tr>\n",
       "    <tr>\n",
       "      <th>Scholarship</th>\n",
       "      <td>-0.002880</td>\n",
       "      <td>-0.092457</td>\n",
       "      <td>1.000000</td>\n",
       "      <td>-0.019729</td>\n",
       "      <td>-0.024894</td>\n",
       "      <td>0.035022</td>\n",
       "      <td>0.001194</td>\n",
       "      <td>-0.029135</td>\n",
       "    </tr>\n",
       "    <tr>\n",
       "      <th>Hypertension</th>\n",
       "      <td>-0.006441</td>\n",
       "      <td>0.504586</td>\n",
       "      <td>-0.019729</td>\n",
       "      <td>1.000000</td>\n",
       "      <td>0.433086</td>\n",
       "      <td>0.087971</td>\n",
       "      <td>-0.006267</td>\n",
       "      <td>0.035701</td>\n",
       "    </tr>\n",
       "    <tr>\n",
       "      <th>Diabetes</th>\n",
       "      <td>0.001605</td>\n",
       "      <td>0.292392</td>\n",
       "      <td>-0.024894</td>\n",
       "      <td>0.433086</td>\n",
       "      <td>1.000000</td>\n",
       "      <td>0.018474</td>\n",
       "      <td>-0.014550</td>\n",
       "      <td>0.015180</td>\n",
       "    </tr>\n",
       "    <tr>\n",
       "      <th>Alcoholism</th>\n",
       "      <td>0.011011</td>\n",
       "      <td>0.095811</td>\n",
       "      <td>0.035022</td>\n",
       "      <td>0.087971</td>\n",
       "      <td>0.018474</td>\n",
       "      <td>1.000000</td>\n",
       "      <td>-0.026147</td>\n",
       "      <td>0.000196</td>\n",
       "    </tr>\n",
       "    <tr>\n",
       "      <th>SMS_received</th>\n",
       "      <td>-0.009749</td>\n",
       "      <td>0.012643</td>\n",
       "      <td>0.001194</td>\n",
       "      <td>-0.006267</td>\n",
       "      <td>-0.014550</td>\n",
       "      <td>-0.026147</td>\n",
       "      <td>1.000000</td>\n",
       "      <td>-0.126431</td>\n",
       "    </tr>\n",
       "    <tr>\n",
       "      <th>No_show</th>\n",
       "      <td>0.001461</td>\n",
       "      <td>0.060319</td>\n",
       "      <td>-0.029135</td>\n",
       "      <td>0.035701</td>\n",
       "      <td>0.015180</td>\n",
       "      <td>0.000196</td>\n",
       "      <td>-0.126431</td>\n",
       "      <td>1.000000</td>\n",
       "    </tr>\n",
       "  </tbody>\n",
       "</table>\n",
       "</div>"
      ],
      "text/plain": [
       "              PatientId       Age  Scholarship  Hypertension  Diabetes  \\\n",
       "PatientId      1.000000 -0.004139    -0.002880     -0.006441  0.001605   \n",
       "Age           -0.004139  1.000000    -0.092457      0.504586  0.292392   \n",
       "Scholarship   -0.002880 -0.092457     1.000000     -0.019729 -0.024894   \n",
       "Hypertension  -0.006441  0.504586    -0.019729      1.000000  0.433086   \n",
       "Diabetes       0.001605  0.292392    -0.024894      0.433086  1.000000   \n",
       "Alcoholism     0.011011  0.095811     0.035022      0.087971  0.018474   \n",
       "SMS_received  -0.009749  0.012643     0.001194     -0.006267 -0.014550   \n",
       "No_show        0.001461  0.060319    -0.029135      0.035701  0.015180   \n",
       "\n",
       "              Alcoholism  SMS_received   No_show  \n",
       "PatientId       0.011011     -0.009749  0.001461  \n",
       "Age             0.095811      0.012643  0.060319  \n",
       "Scholarship     0.035022      0.001194 -0.029135  \n",
       "Hypertension    0.087971     -0.006267  0.035701  \n",
       "Diabetes        0.018474     -0.014550  0.015180  \n",
       "Alcoholism      1.000000     -0.026147  0.000196  \n",
       "SMS_received   -0.026147      1.000000 -0.126431  \n",
       "No_show         0.000196     -0.126431  1.000000  "
      ]
     },
     "execution_count": 48,
     "metadata": {},
     "output_type": "execute_result"
    }
   ],
   "source": [
    "#Correlation between features i.e variables\n",
    "\n",
    "df.corr('pearson')"
   ]
  },
  {
   "cell_type": "markdown",
   "id": "59d13fe7",
   "metadata": {},
   "source": [
    "Relationship between more than two variables;"
   ]
  },
  {
   "cell_type": "code",
   "execution_count": 49,
   "id": "2e2b1912",
   "metadata": {},
   "outputs": [
    {
     "data": {
      "text/plain": [
       "0      1403\n",
       "56      989\n",
       "52      951\n",
       "53      934\n",
       "51      930\n",
       "       ... \n",
       "98        4\n",
       "102       2\n",
       "100       2\n",
       "115       2\n",
       "99        1\n",
       "Name: Age, Length: 103, dtype: int64"
      ]
     },
     "execution_count": 49,
     "metadata": {},
     "output_type": "execute_result"
    }
   ],
   "source": [
    "#Ages of females that showed up for their appointment\n",
    "\n",
    "df.query('Gender == \"F\" and No_show == True').Age.value_counts()"
   ]
  },
  {
   "cell_type": "code",
   "execution_count": 50,
   "id": "fdcf2f47",
   "metadata": {},
   "outputs": [
    {
     "data": {
      "text/plain": [
       "0      1498\n",
       "1       972\n",
       "2       720\n",
       "5       657\n",
       "3       615\n",
       "       ... \n",
       "96        4\n",
       "95        4\n",
       "100       2\n",
       "98        1\n",
       "97        1\n",
       "Name: Age, Length: 100, dtype: int64"
      ]
     },
     "execution_count": 50,
     "metadata": {},
     "output_type": "execute_result"
    }
   ],
   "source": [
    "#Ages of males that showed up for their appointment\n",
    "\n",
    "df.query('Gender == \"M\" and No_show == True').Age.value_counts()"
   ]
  },
  {
   "cell_type": "code",
   "execution_count": 51,
   "id": "c19a5216",
   "metadata": {},
   "outputs": [
    {
     "data": {
      "text/plain": [
       "0     320\n",
       "9     228\n",
       "1     213\n",
       "8     176\n",
       "5     175\n",
       "     ... \n",
       "92      3\n",
       "95      2\n",
       "94      2\n",
       "91      1\n",
       "97      1\n",
       "Name: Age, Length: 97, dtype: int64"
      ]
     },
     "execution_count": 51,
     "metadata": {},
     "output_type": "execute_result"
    }
   ],
   "source": [
    "#Ages of males that didnt show up for their appointment\n",
    "\n",
    "df.query('Gender == \"M\" and No_show == False').Age.value_counts()"
   ]
  },
  {
   "cell_type": "code",
   "execution_count": 52,
   "id": "d54ef131",
   "metadata": {},
   "outputs": [
    {
     "data": {
      "text/plain": [
       "0      319\n",
       "30     291\n",
       "19     280\n",
       "21     270\n",
       "25     268\n",
       "      ... \n",
       "95       4\n",
       "115      3\n",
       "98       1\n",
       "97       1\n",
       "96       1\n",
       "Name: Age, Length: 100, dtype: int64"
      ]
     },
     "execution_count": 52,
     "metadata": {},
     "output_type": "execute_result"
    }
   ],
   "source": [
    "#Ages of females that didnt show up for their appointment\n",
    "\n",
    "df.query('Gender == \"F\" and No_show == False').Age.value_counts()"
   ]
  },
  {
   "cell_type": "code",
   "execution_count": 53,
   "id": "27e0dc52",
   "metadata": {},
   "outputs": [
    {
     "data": {
      "text/plain": [
       "ILHA DO PRÍNCIPE     438\n",
       "TABUAZEIRO           433\n",
       "RESISTÊNCIA          374\n",
       "CARATOÍRA            352\n",
       "SANTA MARTHA         344\n",
       "                    ... \n",
       "MORADA DE CAMBURI      0\n",
       "BARRO VERMELHO         0\n",
       "PRAIA DO CANTO         0\n",
       "ILHA DO BOI            0\n",
       "AEROPORTO              0\n",
       "Name: Neighbourhood, Length: 81, dtype: int64"
      ]
     },
     "execution_count": 53,
     "metadata": {},
     "output_type": "execute_result"
    }
   ],
   "source": [
    "#The neighbourhood with scholarships that showed up for appointment\n",
    "\n",
    "df.query('Scholarship == True and No_show == True').Neighbourhood.value_counts()"
   ]
  },
  {
   "cell_type": "code",
   "execution_count": 54,
   "id": "4b60ae75",
   "metadata": {},
   "outputs": [
    {
     "data": {
      "text/plain": [
       "JARDIM CAMBURI                 6136\n",
       "MARIA ORTIZ                    4502\n",
       "JARDIM DA PENHA                3236\n",
       "RESISTÊNCIA                    3151\n",
       "CENTRO                         2520\n",
       "                               ... \n",
       "ILHA DO BOI                      32\n",
       "ILHA DO FRADE                     8\n",
       "AEROPORTO                         7\n",
       "PARQUE INDUSTRIAL                 1\n",
       "ILHAS OCEÂNICAS DE TRINDADE       0\n",
       "Name: Neighbourhood, Length: 81, dtype: int64"
      ]
     },
     "execution_count": 54,
     "metadata": {},
     "output_type": "execute_result"
    }
   ],
   "source": [
    "#The neighbourhood without scholarship that showed up for appointment\n",
    "\n",
    "df.query('Scholarship == False and No_show == True').Neighbourhood.value_counts()"
   ]
  },
  {
   "cell_type": "code",
   "execution_count": 55,
   "id": "47636287",
   "metadata": {},
   "outputs": [
    {
     "data": {
      "text/plain": [
       "JARDIM CAMBURI                 1422\n",
       "MARIA ORTIZ                    1184\n",
       "ITARARÉ                         834\n",
       "RESISTÊNCIA                     812\n",
       "CENTRO                          671\n",
       "                               ... \n",
       "ILHA DO BOI                       3\n",
       "ILHA DO FRADE                     2\n",
       "ILHAS OCEÂNICAS DE TRINDADE       2\n",
       "AEROPORTO                         1\n",
       "PARQUE INDUSTRIAL                 0\n",
       "Name: Neighbourhood, Length: 81, dtype: int64"
      ]
     },
     "execution_count": 55,
     "metadata": {},
     "output_type": "execute_result"
    }
   ],
   "source": [
    "#The neighbourhood without scholarships that didnt show up for appointment\n",
    "\n",
    "df.query('Scholarship == False and No_show == False').Neighbourhood.value_counts()"
   ]
  },
  {
   "cell_type": "code",
   "execution_count": 56,
   "id": "d174ace0",
   "metadata": {},
   "outputs": [
    {
     "data": {
      "text/plain": [
       "ILHA DO PRÍNCIPE     141\n",
       "GURIGICA             111\n",
       "TABUAZEIRO           104\n",
       "CARATOÍRA            104\n",
       "SANTA MARTHA          97\n",
       "                    ... \n",
       "REPÚBLICA              0\n",
       "PRAIA DO CANTO         0\n",
       "PONTAL DE CAMBURI      0\n",
       "PARQUE INDUSTRIAL      0\n",
       "AEROPORTO              0\n",
       "Name: Neighbourhood, Length: 81, dtype: int64"
      ]
     },
     "execution_count": 56,
     "metadata": {},
     "output_type": "execute_result"
    }
   ],
   "source": [
    "#The neighbourhood without scholarships that didnt show up for appointment\n",
    "\n",
    "df.query('Scholarship == True and No_show == False').Neighbourhood.value_counts()"
   ]
  },
  {
   "cell_type": "markdown",
   "id": "93695523",
   "metadata": {},
   "source": [
    "We can see from above, the relationships that exist between those with or without scholarship that either attended or missed their appointments for each neighbourhood."
   ]
  },
  {
   "cell_type": "code",
   "execution_count": 57,
   "id": "f7265be8",
   "metadata": {},
   "outputs": [
    {
     "data": {
      "text/plain": [
       "116"
      ]
     },
     "execution_count": 57,
     "metadata": {},
     "output_type": "execute_result"
    }
   ],
   "source": [
    "#Females with scholarship that are handicapped\n",
    "\n",
    "df.query('Gender == \"F\" and Scholarship == True and Handicap == True').count().Gender"
   ]
  },
  {
   "cell_type": "code",
   "execution_count": 58,
   "id": "01f4fe6c",
   "metadata": {},
   "outputs": [
    {
     "data": {
      "text/plain": [
       "44"
      ]
     },
     "execution_count": 58,
     "metadata": {},
     "output_type": "execute_result"
    }
   ],
   "source": [
    "#Males with scholarship that are handicapped\n",
    "\n",
    "df.query('Gender == \"M\" and Scholarship == True and Handicap == True').count().Gender"
   ]
  },
  {
   "cell_type": "code",
   "execution_count": 59,
   "id": "04b01a05",
   "metadata": {},
   "outputs": [
    {
     "data": {
      "text/plain": [
       "5347"
      ]
     },
     "execution_count": 59,
     "metadata": {},
     "output_type": "execute_result"
    }
   ],
   "source": [
    "#Males with hypertension that showed up for appointment\n",
    "\n",
    "df.query('Gender == \"M\" and Hypertension == True and No_show == True').count().Gender"
   ]
  },
  {
   "cell_type": "code",
   "execution_count": 60,
   "id": "132bd2c9",
   "metadata": {},
   "outputs": [
    {
     "data": {
      "text/plain": [
       "12682"
      ]
     },
     "execution_count": 60,
     "metadata": {},
     "output_type": "execute_result"
    }
   ],
   "source": [
    "#Females with hypertension that showed up for appointment\n",
    "\n",
    "df.query('Gender == \"F\" and Hypertension == True and No_show == True').count().Gender"
   ]
  },
  {
   "cell_type": "code",
   "execution_count": 61,
   "id": "451bb8d4",
   "metadata": {},
   "outputs": [
    {
     "data": {
      "text/plain": [
       "0      1498\n",
       "1       972\n",
       "2       720\n",
       "5       657\n",
       "3       615\n",
       "       ... \n",
       "96        4\n",
       "95        4\n",
       "100       2\n",
       "98        1\n",
       "97        1\n",
       "Name: Age, Length: 100, dtype: int64"
      ]
     },
     "execution_count": 61,
     "metadata": {},
     "output_type": "execute_result"
    }
   ],
   "source": [
    "#Ages of males that showed up for their appointment\n",
    "\n",
    "df.query('Gender == \"M\" and No_show == True').Age.value_counts()"
   ]
  },
  {
   "cell_type": "code",
   "execution_count": 62,
   "id": "35dab1ca",
   "metadata": {},
   "outputs": [
    {
     "data": {
      "text/plain": [
       "F    3851\n",
       "M    1494\n",
       "Name: Gender, dtype: int64"
      ]
     },
     "execution_count": 62,
     "metadata": {},
     "output_type": "execute_result"
    }
   ],
   "source": [
    "#Males and Females with hypertension and diabetes that showed up for their appointments\n",
    "\n",
    "df.query('Hypertension == True and Diabetes == True and No_show == True').Gender.value_counts()"
   ]
  },
  {
   "cell_type": "code",
   "execution_count": 63,
   "id": "4f12b748",
   "metadata": {},
   "outputs": [
    {
     "data": {
      "text/plain": [
       "F    1060\n",
       "M     439\n",
       "Name: Gender, dtype: int64"
      ]
     },
     "execution_count": 63,
     "metadata": {},
     "output_type": "execute_result"
    }
   ],
   "source": [
    "#Males and Females with hypertension and diabetes that showed up for their appointments after receiving sms notification\n",
    "\n",
    "df.query('Hypertension == True and Diabetes == True and SMS_received == True and No_show == True').Gender.value_counts()"
   ]
  },
  {
   "cell_type": "code",
   "execution_count": 64,
   "id": "8fae1bff",
   "metadata": {},
   "outputs": [
    {
     "data": {
      "text/plain": [
       "SANTO ANTÔNIO        72\n",
       "TABUAZEIRO           57\n",
       "CENTRO               55\n",
       "SÃO JOSÉ             50\n",
       "SANTA MARTHA         48\n",
       "                     ..\n",
       "SANTA HELENA          0\n",
       "MÁRIO CYPRESTE        0\n",
       "NAZARETH              0\n",
       "PARQUE INDUSTRIAL     0\n",
       "AEROPORTO             0\n",
       "Name: Neighbourhood, Length: 81, dtype: int64"
      ]
     },
     "execution_count": 64,
     "metadata": {},
     "output_type": "execute_result"
    }
   ],
   "source": [
    "#Females that are handicapped in a particular neighbourhood\n",
    "df.query('Gender == \"F\" and Handicap == True').Neighbourhood.value_counts()"
   ]
  },
  {
   "cell_type": "code",
   "execution_count": 65,
   "id": "b9838a0f",
   "metadata": {},
   "outputs": [
    {
     "data": {
      "text/plain": [
       "GRANDE VITÓRIA         46\n",
       "SANTA MARTHA           37\n",
       "NOVA PALESTINA         36\n",
       "RESISTÊNCIA            36\n",
       "JARDIM DA PENHA        32\n",
       "                       ..\n",
       "ILHA DE SANTA MARIA     0\n",
       "PONTAL DE CAMBURI       0\n",
       "MORADA DE CAMBURI       0\n",
       "PARQUE INDUSTRIAL       0\n",
       "AEROPORTO               0\n",
       "Name: Neighbourhood, Length: 81, dtype: int64"
      ]
     },
     "execution_count": 65,
     "metadata": {},
     "output_type": "execute_result"
    }
   ],
   "source": [
    "#Males that are handicapped in a particular neighbourhood\n",
    "df.query('Gender == \"M\" and Handicap == True').Neighbourhood.value_counts()"
   ]
  },
  {
   "cell_type": "markdown",
   "id": "dd2b3ee6",
   "metadata": {},
   "source": [
    "# Data Visualisation"
   ]
  },
  {
   "cell_type": "code",
   "execution_count": 66,
   "id": "29327438",
   "metadata": {},
   "outputs": [],
   "source": [
    "def countp(col_name):\n",
    "    sns.countplot(col_name)"
   ]
  },
  {
   "cell_type": "code",
   "execution_count": 67,
   "id": "f7fa82af",
   "metadata": {
    "scrolled": true
   },
   "outputs": [
    {
     "data": {
      "image/png": "[encoded data removed]",
      "text/plain": [
       "<Figure size 432x288 with 1 Axes>"
      ]
     },
     "metadata": {},
     "output_type": "display_data"
    }
   ],
   "source": [
    "#Plot showing Ages\n",
    "\n",
    "countp(df.Age);"
   ]
  },
  {
   "cell_type": "code",
   "execution_count": 68,
   "id": "10bba9af",
   "metadata": {},
   "outputs": [
    {
     "data": {
      "image/png": "[encoded data removed]",
      "text/plain": [
       "<Figure size 432x288 with 1 Axes>"
      ]
     },
     "metadata": {},
     "output_type": "display_data"
    }
   ],
   "source": [
    "#Plot of Scholarship\n",
    "\n",
    "countp(df.Scholarship);"
   ]
  },
  {
   "cell_type": "code",
   "execution_count": 69,
   "id": "1dd967d5",
   "metadata": {},
   "outputs": [
    {
     "data": {
      "image/png": "[encoded data removed]",
      "text/plain": [
       "<Figure size 432x288 with 1 Axes>"
      ]
     },
     "metadata": {},
     "output_type": "display_data"
    }
   ],
   "source": [
    "#Plot of Gender distribution\n",
    "\n",
    "countp(df.Gender);"
   ]
  },
  {
   "cell_type": "code",
   "execution_count": 70,
   "id": "d9158140",
   "metadata": {},
   "outputs": [
    {
     "data": {
      "image/png": "[encoded data removed]",
      "text/plain": [
       "<Figure size 432x288 with 1 Axes>"
      ]
     },
     "metadata": {},
     "output_type": "display_data"
    }
   ],
   "source": [
    "#Plot for hypertension patients\n",
    "\n",
    "countp(df.Hypertension)"
   ]
  },
  {
   "cell_type": "code",
   "execution_count": 71,
   "id": "e5387c6b",
   "metadata": {
    "scrolled": true
   },
   "outputs": [
    {
     "data": {
      "image/png": "[encoded data removed]",
      "text/plain": [
       "<Figure size 432x288 with 1 Axes>"
      ]
     },
     "metadata": {},
     "output_type": "display_data"
    }
   ],
   "source": [
    "#The relationship between gender and No_show. this shows us the gender with a higher chance of showing up\n",
    "\n",
    "sns.countplot(df.Gender,hue=df['No_show']);"
   ]
  },
  {
   "cell_type": "code",
   "execution_count": 72,
   "id": "a71e58ed",
   "metadata": {
    "scrolled": true
   },
   "outputs": [
    {
     "data": {
      "image/png": "[encoded data removed]",
      "text/plain": [
       "<Figure size 432x288 with 1 Axes>"
      ]
     },
     "metadata": {},
     "output_type": "display_data"
    }
   ],
   "source": [
    "#plot of age against gender\n",
    "\n",
    "sns.countplot(df.Age,hue=df['Gender']);"
   ]
  },
  {
   "cell_type": "code",
   "execution_count": 73,
   "id": "20343ab6",
   "metadata": {},
   "outputs": [
    {
     "data": {
      "image/png": "[encoded data removed]",
      "text/plain": [
       "<Figure size 432x288 with 1 Axes>"
      ]
     },
     "metadata": {},
     "output_type": "display_data"
    }
   ],
   "source": [
    "sns.countplot(df.Neighbourhood, hue=df['No_show']);"
   ]
  },
  {
   "cell_type": "code",
   "execution_count": 74,
   "id": "cdcf3698",
   "metadata": {},
   "outputs": [
    {
     "data": {
      "image/png": "[encoded data removed]",
      "text/plain": [
       "<Figure size 432x288 with 1 Axes>"
      ]
     },
     "metadata": {},
     "output_type": "display_data"
    }
   ],
   "source": [
    "#Appointment distribution\n",
    "\n",
    "sns.countplot(df['No_show']);"
   ]
  },
  {
   "cell_type": "code",
   "execution_count": 75,
   "id": "ea7afd9b",
   "metadata": {},
   "outputs": [
    {
     "data": {
      "image/png": "[encoded data removed]",
      "text/plain": [
       "<Figure size 432x288 with 1 Axes>"
      ]
     },
     "metadata": {},
     "output_type": "display_data"
    }
   ],
   "source": [
    "df.groupby(['AppointmentDay', 'No_show'])['Gender'].count().hist();"
   ]
  },
  {
   "cell_type": "code",
   "execution_count": 76,
   "id": "5eb19ce8",
   "metadata": {},
   "outputs": [
    {
     "data": {
      "image/png": "[encoded data removed]",
      "text/plain": [
       "<Figure size 432x288 with 1 Axes>"
      ]
     },
     "metadata": {},
     "output_type": "display_data"
    }
   ],
   "source": [
    "df.query('Hypertension == True and Diabetes == True and SMS_received == True and No_show == True').Gender.value_counts().plot(kind='bar', title='Graph of hypertensive and diabetic patients that received a sms and showed up');"
   ]
  },
  {
   "cell_type": "code",
   "execution_count": 77,
   "id": "ba2a19d3",
   "metadata": {},
   "outputs": [
    {
     "data": {
      "image/png": "[encoded data removed]",
      "text/plain": [
       "<Figure size 432x288 with 1 Axes>"
      ]
     },
     "metadata": {},
     "output_type": "display_data"
    }
   ],
   "source": [
    "df.query('Gender == \"M\" and Handicap == True').Neighbourhood.value_counts().hist();"
   ]
  },
  {
   "cell_type": "markdown",
   "id": "265e32f9",
   "metadata": {},
   "source": [
    "# Conclusion"
   ]
  },
  {
   "cell_type": "markdown",
   "id": "f9414481",
   "metadata": {},
   "source": [
    "From the above analysis and visualisation, the following can be observed based on questions asked;\n",
    "\n",
    "* Men that were 0-yo, showed up the most for their appointments. They were about 1498\n",
    "* 80% men showed up for their appointments as against 79.6% women that showed up for their appointments. The % difference amongst gender can be said to be negligible since it's just about 0.4%\n",
    "* The oldest females were 115yo while the oldest men were 100yo. Hence, it can be seen they were more younger men than women as can be seen from the youngest males and females.\n",
    "* 57246 females out of 71840 showed up for their appointment while about 30962 males out of 38687 showed up for their appointments.\n",
    "* 1403 females of 0-yo showed up for their appointment while 1498 males of same age showed up for their appointment. It can be seen the lower the age, the higher their chances of making it to their appointment since less than 12 females of age 98 and above were able to show up while less than 13 males of age 95 and above did same.\n",
    "* 5347 males with hypertension showed up for their appointment"
   ]
  },
  {
   "cell_type": "markdown",
   "id": "18793195",
   "metadata": {},
   "source": [
    "# References"
   ]
  },
  {
   "cell_type": "markdown",
   "id": "118e6781",
   "metadata": {},
   "source": [
    "</https://stackoverflow.com/>\n",
    "</https://janamalesova.github.io/>"
   ]
  }
 ],
 "metadata": {
  "kernelspec": {
   "display_name": "Python 3",
   "language": "python",
   "name": "python3"
  },
  "language_info": {
   "codemirror_mode": {
    "name": "ipython",
    "version": 3
   },
   "file_extension": ".py",
   "mimetype": "text/x-python",
   "name": "python",
   "nbconvert_exporter": "python",
   "pygments_lexer": "ipython3",
   "version": "3.8.8"
  }
 },
 "nbformat": 4,
 "nbformat_minor": 5
}
