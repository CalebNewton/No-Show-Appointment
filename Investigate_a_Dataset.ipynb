{
 "cells": [
  {
   "cell_type": "markdown",
   "metadata": {},
   "source": [
    "\n",
    "# Project: Investigating 100000 medical appointments in brazil \n",
    "\n",
    "## Table of Contents\n",
    "<ul>\n",
    "<li><a href=\"#intro\">Introduction</a></li>\n",
    "<li><a href=\"#wrangling\">Data Wrangling</a></li>\n",
    "<li><a href=\"#eda\">Exploratory Data Analysis</a></li>\n",
    "<li><a href=\"#conclusions\">Conclusions</a></li>\n",
    "<li><a href=\"#references\">References</a></li>\n",
    "</ul>"
   ]
  },
  {
   "cell_type": "markdown",
   "metadata": {},
   "source": [
    "# Introduction"
   ]
  },
  {
   "cell_type": "code",
   "execution_count": 1,
   "metadata": {},
   "outputs": [],
   "source": [
    "import warnings\n",
    "warnings.simplefilter(action='ignore', category=FutureWarning)"
   ]
  },
  {
   "cell_type": "code",
   "execution_count": 2,
   "metadata": {},
   "outputs": [],
   "source": [
    "import pandas as pd\n",
    "import numpy as np\n",
    "import matplotlib.pyplot as plt\n",
    "%matplotlib inline\n",
    "import seaborn as sns\n",
    "sns.set_style('darkgrid')"
   ]
  },
  {
   "cell_type": "markdown",
   "metadata": {},
   "source": [
    "This dataset collects information from 100000 medical appointments in brazil and is focused on the question of whether or not patients show up for their appointment. This dataset was originally sourced from </https://www.kaggle.com/>\n",
    "\n",
    "Questions to solve;\n",
    "\n",
    "1. What are the top 5 ages of men that showed up the most for their appointment?\n",
    "2. What's the proportion of male to female who showed up for their appointment?\n",
    "3. What's the relationship between (age and gender), (gender and No_show), (age, gender and No_show)?\n",
    "4. What's the number of males with hypertension that showed up for their appointment?"
   ]
  },
  {
   "cell_type": "code",
   "execution_count": 3,
   "metadata": {},
   "outputs": [],
   "source": [
    "#Loading our dataset\n",
    "\n",
    "df = pd.read_csv('Database_No_show_appointments/noshowappointments-kagglev2-may-2016.csv')"
   ]
  },
  {
   "cell_type": "code",
   "execution_count": 4,
   "metadata": {},
   "outputs": [
    {
     "data": {
      "text/html": [
       "<div>\n",
       "<style scoped>\n",
       "    .dataframe tbody tr th:only-of-type {\n",
       "        vertical-align: middle;\n",
       "    }\n",
       "\n",
       "    .dataframe tbody tr th {\n",
       "        vertical-align: top;\n",
       "    }\n",
       "\n",
       "    .dataframe thead th {\n",
       "        text-align: right;\n",
       "    }\n",
       "</style>\n",
       "<table border=\"1\" class=\"dataframe\">\n",
       "  <thead>\n",
       "    <tr style=\"text-align: right;\">\n",
       "      <th></th>\n",
       "      <th>PatientId</th>\n",
       "      <th>AppointmentID</th>\n",
       "      <th>Gender</th>\n",
       "      <th>ScheduledDay</th>\n",
       "      <th>AppointmentDay</th>\n",
       "      <th>Age</th>\n",
       "      <th>Neighbourhood</th>\n",
       "      <th>Scholarship</th>\n",
       "      <th>Hipertension</th>\n",
       "      <th>Diabetes</th>\n",
       "      <th>Alcoholism</th>\n",
       "      <th>Handcap</th>\n",
       "      <th>SMS_received</th>\n",
       "      <th>No-show</th>\n",
       "    </tr>\n",
       "  </thead>\n",
       "  <tbody>\n",
       "    <tr>\n",
       "      <th>0</th>\n",
       "      <td>2.987250e+13</td>\n",
       "      <td>5642903</td>\n",
       "      <td>F</td>\n",
       "      <td>2016-04-29T18:38:08Z</td>\n",
       "      <td>2016-04-29T00:00:00Z</td>\n",
       "      <td>62</td>\n",
       "      <td>JARDIM DA PENHA</td>\n",
       "      <td>0</td>\n",
       "      <td>1</td>\n",
       "      <td>0</td>\n",
       "      <td>0</td>\n",
       "      <td>0</td>\n",
       "      <td>0</td>\n",
       "      <td>No</td>\n",
       "    </tr>\n",
       "    <tr>\n",
       "      <th>1</th>\n",
       "      <td>5.589978e+14</td>\n",
       "      <td>5642503</td>\n",
       "      <td>M</td>\n",
       "      <td>2016-04-29T16:08:27Z</td>\n",
       "      <td>2016-04-29T00:00:00Z</td>\n",
       "      <td>56</td>\n",
       "      <td>JARDIM DA PENHA</td>\n",
       "      <td>0</td>\n",
       "      <td>0</td>\n",
       "      <td>0</td>\n",
       "      <td>0</td>\n",
       "      <td>0</td>\n",
       "      <td>0</td>\n",
       "      <td>No</td>\n",
       "    </tr>\n",
       "    <tr>\n",
       "      <th>2</th>\n",
       "      <td>4.262962e+12</td>\n",
       "      <td>5642549</td>\n",
       "      <td>F</td>\n",
       "      <td>2016-04-29T16:19:04Z</td>\n",
       "      <td>2016-04-29T00:00:00Z</td>\n",
       "      <td>62</td>\n",
       "      <td>MATA DA PRAIA</td>\n",
       "      <td>0</td>\n",
       "      <td>0</td>\n",
       "      <td>0</td>\n",
       "      <td>0</td>\n",
       "      <td>0</td>\n",
       "      <td>0</td>\n",
       "      <td>No</td>\n",
       "    </tr>\n",
       "    <tr>\n",
       "      <th>3</th>\n",
       "      <td>8.679512e+11</td>\n",
       "      <td>5642828</td>\n",
       "      <td>F</td>\n",
       "      <td>2016-04-29T17:29:31Z</td>\n",
       "      <td>2016-04-29T00:00:00Z</td>\n",
       "      <td>8</td>\n",
       "      <td>PONTAL DE CAMBURI</td>\n",
       "      <td>0</td>\n",
       "      <td>0</td>\n",
       "      <td>0</td>\n",
       "      <td>0</td>\n",
       "      <td>0</td>\n",
       "      <td>0</td>\n",
       "      <td>No</td>\n",
       "    </tr>\n",
       "    <tr>\n",
       "      <th>4</th>\n",
       "      <td>8.841186e+12</td>\n",
       "      <td>5642494</td>\n",
       "      <td>F</td>\n",
       "      <td>2016-04-29T16:07:23Z</td>\n",
       "      <td>2016-04-29T00:00:00Z</td>\n",
       "      <td>56</td>\n",
       "      <td>JARDIM DA PENHA</td>\n",
       "      <td>0</td>\n",
       "      <td>1</td>\n",
       "      <td>1</td>\n",
       "      <td>0</td>\n",
       "      <td>0</td>\n",
       "      <td>0</td>\n",
       "      <td>No</td>\n",
       "    </tr>\n",
       "  </tbody>\n",
       "</table>\n",
       "</div>"
      ],
      "text/plain": [
       "      PatientId  AppointmentID Gender          ScheduledDay  \\\n",
       "0  2.987250e+13        5642903      F  2016-04-29T18:38:08Z   \n",
       "1  5.589978e+14        5642503      M  2016-04-29T16:08:27Z   \n",
       "2  4.262962e+12        5642549      F  2016-04-29T16:19:04Z   \n",
       "3  8.679512e+11        5642828      F  2016-04-29T17:29:31Z   \n",
       "4  8.841186e+12        5642494      F  2016-04-29T16:07:23Z   \n",
       "\n",
       "         AppointmentDay  Age      Neighbourhood  Scholarship  Hipertension  \\\n",
       "0  2016-04-29T00:00:00Z   62    JARDIM DA PENHA            0             1   \n",
       "1  2016-04-29T00:00:00Z   56    JARDIM DA PENHA            0             0   \n",
       "2  2016-04-29T00:00:00Z   62      MATA DA PRAIA            0             0   \n",
       "3  2016-04-29T00:00:00Z    8  PONTAL DE CAMBURI            0             0   \n",
       "4  2016-04-29T00:00:00Z   56    JARDIM DA PENHA            0             1   \n",
       "\n",
       "   Diabetes  Alcoholism  Handcap  SMS_received No-show  \n",
       "0         0           0        0             0      No  \n",
       "1         0           0        0             0      No  \n",
       "2         0           0        0             0      No  \n",
       "3         0           0        0             0      No  \n",
       "4         1           0        0             0      No  "
      ]
     },
     "execution_count": 4,
     "metadata": {},
     "output_type": "execute_result"
    }
   ],
   "source": [
    "#lets see top 5 samples of our data\n",
    "\n",
    "df.head(5)"
   ]
  },
  {
   "cell_type": "code",
   "execution_count": 5,
   "metadata": {},
   "outputs": [
    {
     "name": "stdout",
     "output_type": "stream",
     "text": [
      "<class 'pandas.core.frame.DataFrame'>\n",
      "RangeIndex: 110527 entries, 0 to 110526\n",
      "Data columns (total 14 columns):\n",
      "PatientId         110527 non-null float64\n",
      "AppointmentID     110527 non-null int64\n",
      "Gender            110527 non-null object\n",
      "ScheduledDay      110527 non-null object\n",
      "AppointmentDay    110527 non-null object\n",
      "Age               110527 non-null int64\n",
      "Neighbourhood     110527 non-null object\n",
      "Scholarship       110527 non-null int64\n",
      "Hipertension      110527 non-null int64\n",
      "Diabetes          110527 non-null int64\n",
      "Alcoholism        110527 non-null int64\n",
      "Handcap           110527 non-null int64\n",
      "SMS_received      110527 non-null int64\n",
      "No-show           110527 non-null object\n",
      "dtypes: float64(1), int64(8), object(5)\n",
      "memory usage: 11.8+ MB\n"
     ]
    }
   ],
   "source": [
    "#Lets obtain more information about this dataset\n",
    "\n",
    "df.info()"
   ]
  },
  {
   "cell_type": "code",
   "execution_count": 6,
   "metadata": {},
   "outputs": [
    {
     "data": {
      "text/html": [
       "<div>\n",
       "<style scoped>\n",
       "    .dataframe tbody tr th:only-of-type {\n",
       "        vertical-align: middle;\n",
       "    }\n",
       "\n",
       "    .dataframe tbody tr th {\n",
       "        vertical-align: top;\n",
       "    }\n",
       "\n",
       "    .dataframe thead th {\n",
       "        text-align: right;\n",
       "    }\n",
       "</style>\n",
       "<table border=\"1\" class=\"dataframe\">\n",
       "  <thead>\n",
       "    <tr style=\"text-align: right;\">\n",
       "      <th></th>\n",
       "      <th>count</th>\n",
       "      <th>mean</th>\n",
       "      <th>std</th>\n",
       "      <th>min</th>\n",
       "      <th>25%</th>\n",
       "      <th>50%</th>\n",
       "      <th>75%</th>\n",
       "      <th>max</th>\n",
       "    </tr>\n",
       "  </thead>\n",
       "  <tbody>\n",
       "    <tr>\n",
       "      <th>PatientId</th>\n",
       "      <td>110527.0</td>\n",
       "      <td>1.474963e+14</td>\n",
       "      <td>2.560949e+14</td>\n",
       "      <td>3.921784e+04</td>\n",
       "      <td>4.172614e+12</td>\n",
       "      <td>3.173184e+13</td>\n",
       "      <td>9.439172e+13</td>\n",
       "      <td>9.999816e+14</td>\n",
       "    </tr>\n",
       "    <tr>\n",
       "      <th>AppointmentID</th>\n",
       "      <td>110527.0</td>\n",
       "      <td>5.675305e+06</td>\n",
       "      <td>7.129575e+04</td>\n",
       "      <td>5.030230e+06</td>\n",
       "      <td>5.640286e+06</td>\n",
       "      <td>5.680573e+06</td>\n",
       "      <td>5.725524e+06</td>\n",
       "      <td>5.790484e+06</td>\n",
       "    </tr>\n",
       "    <tr>\n",
       "      <th>Age</th>\n",
       "      <td>110527.0</td>\n",
       "      <td>3.708887e+01</td>\n",
       "      <td>2.311020e+01</td>\n",
       "      <td>-1.000000e+00</td>\n",
       "      <td>1.800000e+01</td>\n",
       "      <td>3.700000e+01</td>\n",
       "      <td>5.500000e+01</td>\n",
       "      <td>1.150000e+02</td>\n",
       "    </tr>\n",
       "    <tr>\n",
       "      <th>Scholarship</th>\n",
       "      <td>110527.0</td>\n",
       "      <td>9.826558e-02</td>\n",
       "      <td>2.976748e-01</td>\n",
       "      <td>0.000000e+00</td>\n",
       "      <td>0.000000e+00</td>\n",
       "      <td>0.000000e+00</td>\n",
       "      <td>0.000000e+00</td>\n",
       "      <td>1.000000e+00</td>\n",
       "    </tr>\n",
       "    <tr>\n",
       "      <th>Hipertension</th>\n",
       "      <td>110527.0</td>\n",
       "      <td>1.972459e-01</td>\n",
       "      <td>3.979213e-01</td>\n",
       "      <td>0.000000e+00</td>\n",
       "      <td>0.000000e+00</td>\n",
       "      <td>0.000000e+00</td>\n",
       "      <td>0.000000e+00</td>\n",
       "      <td>1.000000e+00</td>\n",
       "    </tr>\n",
       "    <tr>\n",
       "      <th>Diabetes</th>\n",
       "      <td>110527.0</td>\n",
       "      <td>7.186479e-02</td>\n",
       "      <td>2.582651e-01</td>\n",
       "      <td>0.000000e+00</td>\n",
       "      <td>0.000000e+00</td>\n",
       "      <td>0.000000e+00</td>\n",
       "      <td>0.000000e+00</td>\n",
       "      <td>1.000000e+00</td>\n",
       "    </tr>\n",
       "    <tr>\n",
       "      <th>Alcoholism</th>\n",
       "      <td>110527.0</td>\n",
       "      <td>3.039981e-02</td>\n",
       "      <td>1.716856e-01</td>\n",
       "      <td>0.000000e+00</td>\n",
       "      <td>0.000000e+00</td>\n",
       "      <td>0.000000e+00</td>\n",
       "      <td>0.000000e+00</td>\n",
       "      <td>1.000000e+00</td>\n",
       "    </tr>\n",
       "    <tr>\n",
       "      <th>Handcap</th>\n",
       "      <td>110527.0</td>\n",
       "      <td>2.224796e-02</td>\n",
       "      <td>1.615427e-01</td>\n",
       "      <td>0.000000e+00</td>\n",
       "      <td>0.000000e+00</td>\n",
       "      <td>0.000000e+00</td>\n",
       "      <td>0.000000e+00</td>\n",
       "      <td>4.000000e+00</td>\n",
       "    </tr>\n",
       "    <tr>\n",
       "      <th>SMS_received</th>\n",
       "      <td>110527.0</td>\n",
       "      <td>3.210256e-01</td>\n",
       "      <td>4.668727e-01</td>\n",
       "      <td>0.000000e+00</td>\n",
       "      <td>0.000000e+00</td>\n",
       "      <td>0.000000e+00</td>\n",
       "      <td>1.000000e+00</td>\n",
       "      <td>1.000000e+00</td>\n",
       "    </tr>\n",
       "  </tbody>\n",
       "</table>\n",
       "</div>"
      ],
      "text/plain": [
       "                  count          mean           std           min  \\\n",
       "PatientId      110527.0  1.474963e+14  2.560949e+14  3.921784e+04   \n",
       "AppointmentID  110527.0  5.675305e+06  7.129575e+04  5.030230e+06   \n",
       "Age            110527.0  3.708887e+01  2.311020e+01 -1.000000e+00   \n",
       "Scholarship    110527.0  9.826558e-02  2.976748e-01  0.000000e+00   \n",
       "Hipertension   110527.0  1.972459e-01  3.979213e-01  0.000000e+00   \n",
       "Diabetes       110527.0  7.186479e-02  2.582651e-01  0.000000e+00   \n",
       "Alcoholism     110527.0  3.039981e-02  1.716856e-01  0.000000e+00   \n",
       "Handcap        110527.0  2.224796e-02  1.615427e-01  0.000000e+00   \n",
       "SMS_received   110527.0  3.210256e-01  4.668727e-01  0.000000e+00   \n",
       "\n",
       "                        25%           50%           75%           max  \n",
       "PatientId      4.172614e+12  3.173184e+13  9.439172e+13  9.999816e+14  \n",
       "AppointmentID  5.640286e+06  5.680573e+06  5.725524e+06  5.790484e+06  \n",
       "Age            1.800000e+01  3.700000e+01  5.500000e+01  1.150000e+02  \n",
       "Scholarship    0.000000e+00  0.000000e+00  0.000000e+00  1.000000e+00  \n",
       "Hipertension   0.000000e+00  0.000000e+00  0.000000e+00  1.000000e+00  \n",
       "Diabetes       0.000000e+00  0.000000e+00  0.000000e+00  1.000000e+00  \n",
       "Alcoholism     0.000000e+00  0.000000e+00  0.000000e+00  1.000000e+00  \n",
       "Handcap        0.000000e+00  0.000000e+00  0.000000e+00  4.000000e+00  \n",
       "SMS_received   0.000000e+00  0.000000e+00  1.000000e+00  1.000000e+00  "
      ]
     },
     "execution_count": 6,
     "metadata": {},
     "output_type": "execute_result"
    }
   ],
   "source": [
    "#Lets obtain statistical info of our dataset. Transposing, we obtain the following values for each features.\n",
    "\n",
    "df.describe().T"
   ]
  },
  {
   "cell_type": "markdown",
   "metadata": {},
   "source": [
    "# Data Wrangling"
   ]
  },
  {
   "cell_type": "markdown",
   "metadata": {},
   "source": [
    "From the result obtained using .info(), we can see the datatype of each of our features. We noticed some features possess the wrong datatype which has to be changed later. Hence, the need for data wrangling\n",
    "\n",
    "Data wrangling involves removing erros and combining complex datasets to make them more accessible and easier to analyze. Common Problems to look out for before analysis can be done are as follows; Check for\n",
    "\n",
    "incorrect datatypes missing data duplicates structural problems like different column names mismatch number of records;"
   ]
  },
  {
   "cell_type": "code",
   "execution_count": 7,
   "metadata": {},
   "outputs": [
    {
     "data": {
      "text/plain": [
       "False"
      ]
     },
     "execution_count": 7,
     "metadata": {},
     "output_type": "execute_result"
    }
   ],
   "source": [
    "#Checking for missing or null values\n",
    "\n",
    "df.isnull().sum().all()"
   ]
  },
  {
   "cell_type": "code",
   "execution_count": 8,
   "metadata": {},
   "outputs": [
    {
     "data": {
      "text/plain": [
       "0"
      ]
     },
     "execution_count": 8,
     "metadata": {},
     "output_type": "execute_result"
    }
   ],
   "source": [
    "#Checking for duplicates\n",
    "\n",
    "df.duplicated().sum()"
   ]
  },
  {
   "cell_type": "code",
   "execution_count": 9,
   "metadata": {},
   "outputs": [
    {
     "data": {
      "text/plain": [
       " 0      3539\n",
       " 1      2273\n",
       " 52     1746\n",
       " 49     1652\n",
       " 53     1651\n",
       " 56     1635\n",
       " 38     1629\n",
       " 59     1624\n",
       " 2      1618\n",
       " 50     1613\n",
       " 57     1603\n",
       " 36     1580\n",
       " 51     1567\n",
       " 19     1545\n",
       " 39     1536\n",
       " 37     1533\n",
       " 54     1530\n",
       " 34     1526\n",
       " 33     1524\n",
       " 30     1521\n",
       " 6      1521\n",
       " 3      1513\n",
       " 17     1509\n",
       " 32     1505\n",
       " 5      1489\n",
       " 44     1487\n",
       " 18     1487\n",
       " 58     1469\n",
       " 46     1460\n",
       " 45     1453\n",
       "        ... \n",
       " 74      602\n",
       " 76      571\n",
       " 75      544\n",
       " 78      541\n",
       " 77      527\n",
       " 80      511\n",
       " 81      434\n",
       " 82      392\n",
       " 79      390\n",
       " 84      311\n",
       " 83      280\n",
       " 85      275\n",
       " 86      260\n",
       " 87      184\n",
       " 89      173\n",
       " 88      126\n",
       " 90      109\n",
       " 92       86\n",
       " 91       66\n",
       " 93       53\n",
       " 94       33\n",
       " 95       24\n",
       " 96       17\n",
       " 97       11\n",
       " 98        6\n",
       " 115       5\n",
       " 100       4\n",
       " 102       2\n",
       " 99        1\n",
       "-1         1\n",
       "Name: Age, Length: 104, dtype: int64"
      ]
     },
     "execution_count": 9,
     "metadata": {},
     "output_type": "execute_result"
    }
   ],
   "source": [
    "#Checking the Age features\n",
    "\n",
    "df.Age.value_counts()"
   ]
  },
  {
   "cell_type": "code",
   "execution_count": 10,
   "metadata": {},
   "outputs": [
    {
     "data": {
      "text/plain": [
       "JARDIM CAMBURI                 7717\n",
       "MARIA ORTIZ                    5805\n",
       "RESISTÊNCIA                    4431\n",
       "JARDIM DA PENHA                3877\n",
       "ITARARÉ                        3514\n",
       "CENTRO                         3334\n",
       "TABUAZEIRO                     3132\n",
       "SANTA MARTHA                   3131\n",
       "JESUS DE NAZARETH              2853\n",
       "BONFIM                         2773\n",
       "SANTO ANTÔNIO                  2746\n",
       "SANTO ANDRÉ                    2571\n",
       "CARATOÍRA                      2565\n",
       "JABOUR                         2509\n",
       "SÃO PEDRO                      2448\n",
       "ILHA DO PRÍNCIPE               2266\n",
       "NOVA PALESTINA                 2264\n",
       "ANDORINHAS                     2262\n",
       "DA PENHA                       2217\n",
       "ROMÃO                          2215\n",
       "GURIGICA                       2018\n",
       "SÃO JOSÉ                       1977\n",
       "BELA VISTA                     1907\n",
       "MARUÍPE                        1902\n",
       "FORTE SÃO JOÃO                 1889\n",
       "ILHA DE SANTA MARIA            1885\n",
       "SÃO CRISTÓVÃO                  1836\n",
       "REDENÇÃO                       1553\n",
       "SÃO BENEDITO                   1439\n",
       "JOANA D´ARC                    1427\n",
       "                               ... \n",
       "SANTOS REIS                     547\n",
       "ESTRELINHA                      538\n",
       "SANTA CLARA                     506\n",
       "SOLON BORGES                    469\n",
       "PIEDADE                         452\n",
       "SANTA CECÍLIA                   448\n",
       "SANTA LÚCIA                     438\n",
       "SANTA LUÍZA                     428\n",
       "BARRO VERMELHO                  423\n",
       "DO MOSCOSO                      413\n",
       "MÁRIO CYPRESTE                  371\n",
       "BOA VISTA                       312\n",
       "COMDUSA                         310\n",
       "DE LOURDES                      305\n",
       "ARIOVALDO FAVALESSA             282\n",
       "ANTÔNIO HONÓRIO                 271\n",
       "FRADINHOS                       258\n",
       "ENSEADA DO SUÁ                  235\n",
       "SANTA HELENA                    178\n",
       "HORTO                           175\n",
       "UNIVERSITÁRIO                   152\n",
       "SEGURANÇA DO LAR                145\n",
       "NAZARETH                        135\n",
       "MORADA DE CAMBURI                96\n",
       "PONTAL DE CAMBURI                69\n",
       "ILHA DO BOI                      35\n",
       "ILHA DO FRADE                    10\n",
       "AEROPORTO                         8\n",
       "ILHAS OCEÂNICAS DE TRINDADE       2\n",
       "PARQUE INDUSTRIAL                 1\n",
       "Name: Neighbourhood, Length: 81, dtype: int64"
      ]
     },
     "execution_count": 10,
     "metadata": {},
     "output_type": "execute_result"
    }
   ],
   "source": [
    "#Categorizing Neighbourhood\n",
    "\n",
    "df.Neighbourhood.value_counts()"
   ]
  },
  {
   "cell_type": "code",
   "execution_count": 11,
   "metadata": {},
   "outputs": [
    {
     "data": {
      "text/plain": [
       "0    108286\n",
       "1      2042\n",
       "2       183\n",
       "3        13\n",
       "4         3\n",
       "Name: Handcap, dtype: int64"
      ]
     },
     "execution_count": 11,
     "metadata": {},
     "output_type": "execute_result"
    }
   ],
   "source": [
    "#Categorizing Handicap\n",
    "\n",
    "df.Handcap.value_counts()"
   ]
  },
  {
   "cell_type": "markdown",
   "metadata": {},
   "source": [
    "Regardless if the test is real or hypothetical, in reality, no human possesses a negative years as age hence, identifying the patient who's -1 year old and changing it to the closest value that isn't negative is important in our analysis"
   ]
  },
  {
   "cell_type": "code",
   "execution_count": 12,
   "metadata": {},
   "outputs": [
    {
     "data": {
      "text/html": [
       "<div>\n",
       "<style scoped>\n",
       "    .dataframe tbody tr th:only-of-type {\n",
       "        vertical-align: middle;\n",
       "    }\n",
       "\n",
       "    .dataframe tbody tr th {\n",
       "        vertical-align: top;\n",
       "    }\n",
       "\n",
       "    .dataframe thead th {\n",
       "        text-align: right;\n",
       "    }\n",
       "</style>\n",
       "<table border=\"1\" class=\"dataframe\">\n",
       "  <thead>\n",
       "    <tr style=\"text-align: right;\">\n",
       "      <th></th>\n",
       "      <th>PatientId</th>\n",
       "      <th>AppointmentID</th>\n",
       "      <th>Gender</th>\n",
       "      <th>ScheduledDay</th>\n",
       "      <th>AppointmentDay</th>\n",
       "      <th>Age</th>\n",
       "      <th>Neighbourhood</th>\n",
       "      <th>Scholarship</th>\n",
       "      <th>Hipertension</th>\n",
       "      <th>Diabetes</th>\n",
       "      <th>Alcoholism</th>\n",
       "      <th>Handcap</th>\n",
       "      <th>SMS_received</th>\n",
       "      <th>No-show</th>\n",
       "    </tr>\n",
       "  </thead>\n",
       "  <tbody>\n",
       "    <tr>\n",
       "      <th>99832</th>\n",
       "      <td>4.659432e+14</td>\n",
       "      <td>5775010</td>\n",
       "      <td>F</td>\n",
       "      <td>2016-06-06T08:58:13Z</td>\n",
       "      <td>2016-06-06T00:00:00Z</td>\n",
       "      <td>-1</td>\n",
       "      <td>ROMÃO</td>\n",
       "      <td>0</td>\n",
       "      <td>0</td>\n",
       "      <td>0</td>\n",
       "      <td>0</td>\n",
       "      <td>0</td>\n",
       "      <td>0</td>\n",
       "      <td>No</td>\n",
       "    </tr>\n",
       "  </tbody>\n",
       "</table>\n",
       "</div>"
      ],
      "text/plain": [
       "          PatientId  AppointmentID Gender          ScheduledDay  \\\n",
       "99832  4.659432e+14        5775010      F  2016-06-06T08:58:13Z   \n",
       "\n",
       "             AppointmentDay  Age Neighbourhood  Scholarship  Hipertension  \\\n",
       "99832  2016-06-06T00:00:00Z   -1         ROMÃO            0             0   \n",
       "\n",
       "       Diabetes  Alcoholism  Handcap  SMS_received No-show  \n",
       "99832         0           0        0             0      No  "
      ]
     },
     "execution_count": 12,
     "metadata": {},
     "output_type": "execute_result"
    }
   ],
   "source": [
    "#From the above result, we know in reality that no person age can be -1, hence, lets locate the sample with age -1\n",
    "\n",
    "df[df['Age'] == -1]"
   ]
  },
  {
   "cell_type": "code",
   "execution_count": 13,
   "metadata": {},
   "outputs": [],
   "source": [
    "#replace the -1 age with 0, since its impossible for age to be -1\n",
    "\n",
    "df.Age.replace({-1:0},inplace=True)"
   ]
  },
  {
   "cell_type": "code",
   "execution_count": 14,
   "metadata": {},
   "outputs": [],
   "source": [
    "#AppointmentID wont make an significance in our prediction and so, we should remove this\n",
    "\n",
    "df.drop(['AppointmentID'],axis=1,inplace=True)"
   ]
  },
  {
   "cell_type": "code",
   "execution_count": 15,
   "metadata": {},
   "outputs": [
    {
     "data": {
      "text/plain": [
       "618"
      ]
     },
     "execution_count": 15,
     "metadata": {},
     "output_type": "execute_result"
    }
   ],
   "source": [
    "#Checking for duplicates again. Though the dataset shows duplicates after the appointmentid was removed but this cant be removed cos these data seems to be very important\n",
    "\n",
    "df.duplicated().sum()"
   ]
  },
  {
   "cell_type": "code",
   "execution_count": 16,
   "metadata": {},
   "outputs": [],
   "source": [
    "#Renaming the columns\n",
    "\n",
    "df.rename(columns={'Hipertension':'Hypertension', 'Handcap': 'Handicap', 'No-show': 'No_show'},inplace=True)"
   ]
  },
  {
   "cell_type": "markdown",
   "metadata": {},
   "source": [
    "#### Solving datatype issues for each features"
   ]
  },
  {
   "cell_type": "code",
   "execution_count": 17,
   "metadata": {},
   "outputs": [],
   "source": [
    "#Converting scholarship, hypertension, diabetes, alcoholism and sms_received to booleans\n",
    "\n",
    "for b in ['Scholarship', 'Hypertension', 'Diabetes', 'Alcoholism', 'SMS_received']:\n",
    "    df[b] = df[b].astype('bool')"
   ]
  },
  {
   "cell_type": "code",
   "execution_count": 18,
   "metadata": {},
   "outputs": [],
   "source": [
    "#Converting ScheduledDay and AppointmentDay to datetime dtype\n",
    "\n",
    "for b in ['ScheduledDay', 'AppointmentDay']:\n",
    "    df[b] = pd.to_datetime(df[b])"
   ]
  },
  {
   "cell_type": "code",
   "execution_count": 19,
   "metadata": {},
   "outputs": [],
   "source": [
    "#Converting Gender, Neighbourhood, handicap\n",
    "\n",
    "for b in ['Gender', 'Neighbourhood', 'Handicap']:\n",
    "    df[b] = df[b].astype('category')"
   ]
  },
  {
   "cell_type": "markdown",
   "metadata": {},
   "source": [
    "From the no_show column, we know when the response is NO, it means the patient made it for the appointment but when it's YES, it means the patient didnt make it."
   ]
  },
  {
   "cell_type": "code",
   "execution_count": 20,
   "metadata": {},
   "outputs": [],
   "source": [
    "#Replacing NO and YES with 0 and 1 inorder to easily convert the datatype\n",
    "\n",
    "df.No_show.replace({'No': 1, 'Yes': 0},inplace=True)"
   ]
  },
  {
   "cell_type": "code",
   "execution_count": 21,
   "metadata": {},
   "outputs": [],
   "source": [
    "df.No_show = df.No_show.astype('bool')"
   ]
  },
  {
   "cell_type": "code",
   "execution_count": 22,
   "metadata": {},
   "outputs": [
    {
     "data": {
      "text/plain": [
       "PatientId                float64\n",
       "Gender                  category\n",
       "ScheduledDay      datetime64[ns]\n",
       "AppointmentDay    datetime64[ns]\n",
       "Age                        int64\n",
       "Neighbourhood           category\n",
       "Scholarship                 bool\n",
       "Hypertension                bool\n",
       "Diabetes                    bool\n",
       "Alcoholism                  bool\n",
       "Handicap                category\n",
       "SMS_received                bool\n",
       "No_show                     bool\n",
       "dtype: object"
      ]
     },
     "execution_count": 22,
     "metadata": {},
     "output_type": "execute_result"
    }
   ],
   "source": [
    "df.dtypes"
   ]
  },
  {
   "cell_type": "code",
   "execution_count": 23,
   "metadata": {},
   "outputs": [
    {
     "data": {
      "text/plain": [
       "True     88208\n",
       "False    22319\n",
       "Name: No_show, dtype: int64"
      ]
     },
     "execution_count": 23,
     "metadata": {},
     "output_type": "execute_result"
    }
   ],
   "source": [
    "#Checking our No_show feature\n",
    "\n",
    "df.No_show.value_counts()"
   ]
  },
  {
   "cell_type": "markdown",
   "metadata": {},
   "source": [
    "# Exploratory Data Analysis"
   ]
  },
  {
   "cell_type": "markdown",
   "metadata": {},
   "source": [
    "No_show"
   ]
  },
  {
   "cell_type": "code",
   "execution_count": 24,
   "metadata": {},
   "outputs": [
    {
     "data": {
      "text/plain": [
       "88208"
      ]
     },
     "execution_count": 24,
     "metadata": {},
     "output_type": "execute_result"
    }
   ],
   "source": [
    "#The number of people that did show up for an appointment. No_show is True i.e 1, if the patient showed up and False i.e 0, if the patient didnt show up\n",
    "\n",
    "df[df['No_show'] == 1].No_show.count()"
   ]
  },
  {
   "cell_type": "code",
   "execution_count": 25,
   "metadata": {},
   "outputs": [
    {
     "data": {
      "text/plain": [
       "22319"
      ]
     },
     "execution_count": 25,
     "metadata": {},
     "output_type": "execute_result"
    }
   ],
   "source": [
    "#The number of people that didnt show up for an appointment\n",
    "\n",
    "df[df['No_show'] == 0].No_show.count()"
   ]
  },
  {
   "cell_type": "markdown",
   "metadata": {},
   "source": [
    "Gender"
   ]
  },
  {
   "cell_type": "code",
   "execution_count": 26,
   "metadata": {},
   "outputs": [
    {
     "data": {
      "text/plain": [
       "Gender\n",
       "F    71840\n",
       "M    38687\n",
       "Name: Age, dtype: int64"
      ]
     },
     "execution_count": 26,
     "metadata": {},
     "output_type": "execute_result"
    }
   ],
   "source": [
    "#Total values of male and female patients\n",
    "\n",
    "total_gender = df.groupby('Gender').count().Age\n",
    "total_gender"
   ]
  },
  {
   "cell_type": "markdown",
   "metadata": {},
   "source": [
    "Neighbourhood"
   ]
  },
  {
   "cell_type": "code",
   "execution_count": 27,
   "metadata": {},
   "outputs": [
    {
     "data": {
      "text/plain": [
       "JARDIM CAMBURI                 7717\n",
       "MARIA ORTIZ                    5805\n",
       "RESISTÊNCIA                    4431\n",
       "JARDIM DA PENHA                3877\n",
       "ITARARÉ                        3514\n",
       "CENTRO                         3334\n",
       "TABUAZEIRO                     3132\n",
       "SANTA MARTHA                   3131\n",
       "JESUS DE NAZARETH              2853\n",
       "BONFIM                         2773\n",
       "SANTO ANTÔNIO                  2746\n",
       "SANTO ANDRÉ                    2571\n",
       "CARATOÍRA                      2565\n",
       "JABOUR                         2509\n",
       "SÃO PEDRO                      2448\n",
       "ILHA DO PRÍNCIPE               2266\n",
       "NOVA PALESTINA                 2264\n",
       "ANDORINHAS                     2262\n",
       "DA PENHA                       2217\n",
       "ROMÃO                          2215\n",
       "GURIGICA                       2018\n",
       "SÃO JOSÉ                       1977\n",
       "BELA VISTA                     1907\n",
       "MARUÍPE                        1902\n",
       "FORTE SÃO JOÃO                 1889\n",
       "ILHA DE SANTA MARIA            1885\n",
       "SÃO CRISTÓVÃO                  1836\n",
       "REDENÇÃO                       1553\n",
       "SÃO BENEDITO                   1439\n",
       "JOANA D´ARC                    1427\n",
       "                               ... \n",
       "SANTOS REIS                     547\n",
       "ESTRELINHA                      538\n",
       "SANTA CLARA                     506\n",
       "SOLON BORGES                    469\n",
       "PIEDADE                         452\n",
       "SANTA CECÍLIA                   448\n",
       "SANTA LÚCIA                     438\n",
       "SANTA LUÍZA                     428\n",
       "BARRO VERMELHO                  423\n",
       "DO MOSCOSO                      413\n",
       "MÁRIO CYPRESTE                  371\n",
       "BOA VISTA                       312\n",
       "COMDUSA                         310\n",
       "DE LOURDES                      305\n",
       "ARIOVALDO FAVALESSA             282\n",
       "ANTÔNIO HONÓRIO                 271\n",
       "FRADINHOS                       258\n",
       "ENSEADA DO SUÁ                  235\n",
       "SANTA HELENA                    178\n",
       "HORTO                           175\n",
       "UNIVERSITÁRIO                   152\n",
       "SEGURANÇA DO LAR                145\n",
       "NAZARETH                        135\n",
       "MORADA DE CAMBURI                96\n",
       "PONTAL DE CAMBURI                69\n",
       "ILHA DO BOI                      35\n",
       "ILHA DO FRADE                    10\n",
       "AEROPORTO                         8\n",
       "ILHAS OCEÂNICAS DE TRINDADE       2\n",
       "PARQUE INDUSTRIAL                 1\n",
       "Name: Neighbourhood, Length: 81, dtype: int64"
      ]
     },
     "execution_count": 27,
     "metadata": {},
     "output_type": "execute_result"
    }
   ],
   "source": [
    "df.Neighbourhood.value_counts()"
   ]
  },
  {
   "cell_type": "code",
   "execution_count": 28,
   "metadata": {
    "scrolled": true
   },
   "outputs": [
    {
     "data": {
      "image/png": "[encoded data removed]",
      "text/plain": [
       "<matplotlib.figure.Figure at 0x7f81b69577b8>"
      ]
     },
     "metadata": {
      "needs_background": "light"
     },
     "output_type": "display_data"
    }
   ],
   "source": [
    "#Plot of Petients and their neighbourhood\n",
    "\n",
    "df.Neighbourhood.value_counts().plot(kind='bar',title='Neighbourhood and number of patients',alpha=1)\n",
    "plt.xlabel('Neighbourhood', fontsize=18)\n",
    "plt.ylabel('Number of patients', fontsize=18);"
   ]
  },
  {
   "cell_type": "markdown",
   "metadata": {},
   "source": [
    "From the above plot, it can be seen that JARDIM CAMBURI had the highest number of patients i.e 7717 patients while PARQUE INDUSTRIAL had just 1 patient"
   ]
  },
  {
   "cell_type": "markdown",
   "metadata": {},
   "source": [
    "Hypertension"
   ]
  },
  {
   "cell_type": "code",
   "execution_count": 29,
   "metadata": {},
   "outputs": [
    {
     "data": {
      "text/plain": [
       "False    88726\n",
       "True     21801\n",
       "Name: Hypertension, dtype: int64"
      ]
     },
     "execution_count": 29,
     "metadata": {},
     "output_type": "execute_result"
    }
   ],
   "source": [
    "df.Hypertension.value_counts()"
   ]
  },
  {
   "cell_type": "markdown",
   "metadata": {},
   "source": [
    "Relationships between two variables;"
   ]
  },
  {
   "cell_type": "code",
   "execution_count": 30,
   "metadata": {},
   "outputs": [
    {
     "data": {
      "text/plain": [
       "Age  No_show\n",
       "0    True       2901\n",
       "     False       639\n",
       "1    True       1858\n",
       "     False       415\n",
       "2    True       1366\n",
       "     False       252\n",
       "3    True       1236\n",
       "     False       277\n",
       "4    True       1017\n",
       "     False       282\n",
       "5    True       1169\n",
       "     False       320\n",
       "6    True       1205\n",
       "     False       316\n",
       "7    True       1126\n",
       "     False       301\n",
       "8    True       1106\n",
       "     False       318\n",
       "9    True       1008\n",
       "     False       364\n",
       "10   True        970\n",
       "     False       304\n",
       "11   True        948\n",
       "     False       247\n",
       "12   True        820\n",
       "     False       272\n",
       "13   True        800\n",
       "     False       303\n",
       "14   True        802\n",
       "     False       316\n",
       "                ... \n",
       "86   False        42\n",
       "87   True        157\n",
       "     False        27\n",
       "88   True        114\n",
       "     False        12\n",
       "89   True        144\n",
       "     False        29\n",
       "90   True         86\n",
       "     False        23\n",
       "91   True         53\n",
       "     False        13\n",
       "92   True         66\n",
       "     False        20\n",
       "93   True         43\n",
       "     False        10\n",
       "94   True         27\n",
       "     False         6\n",
       "95   True         18\n",
       "     False         6\n",
       "96   True         16\n",
       "     False         1\n",
       "97   True          9\n",
       "     False         2\n",
       "98   True          5\n",
       "     False         1\n",
       "99   True          1\n",
       "100  True          4\n",
       "102  True          2\n",
       "115  False         3\n",
       "     True          2\n",
       "Name: No_show, Length: 203, dtype: int64"
      ]
     },
     "execution_count": 30,
     "metadata": {},
     "output_type": "execute_result"
    }
   ],
   "source": [
    "#Age and patients that showed up\n",
    "\n",
    "df.groupby('Age').No_show.value_counts()"
   ]
  },
  {
   "cell_type": "markdown",
   "metadata": {},
   "source": [
    "Relationship between Age and Gender"
   ]
  },
  {
   "cell_type": "code",
   "execution_count": 31,
   "metadata": {
    "scrolled": true
   },
   "outputs": [
    {
     "data": {
      "text/plain": [
       "0     1722\n",
       "30    1164\n",
       "56    1151\n",
       "52    1149\n",
       "53    1147\n",
       "19    1123\n",
       "51    1117\n",
       "37    1114\n",
       "38    1106\n",
       "54    1102\n",
       "Name: Age, dtype: int64"
      ]
     },
     "execution_count": 31,
     "metadata": {},
     "output_type": "execute_result"
    }
   ],
   "source": [
    "#Females and their age range\n",
    "\n",
    "df.query('Gender == \"F\"').Age.value_counts().head(10)"
   ]
  },
  {
   "cell_type": "code",
   "execution_count": 32,
   "metadata": {},
   "outputs": [
    {
     "data": {
      "text/plain": [
       "count     103.000000\n",
       "mean      697.475728\n",
       "std       400.071852\n",
       "min         1.000000\n",
       "25%       359.500000\n",
       "50%       784.000000\n",
       "75%      1046.000000\n",
       "max      1722.000000\n",
       "Name: Age, dtype: float64"
      ]
     },
     "execution_count": 32,
     "metadata": {},
     "output_type": "execute_result"
    }
   ],
   "source": [
    "#Statistical data on the above relationship\n",
    "\n",
    "df.query('Gender == \"F\"').Age.value_counts().describe()"
   ]
  },
  {
   "cell_type": "code",
   "execution_count": 33,
   "metadata": {},
   "outputs": [
    {
     "data": {
      "image/png": "[encoded data removed]",
      "text/plain": [
       "<matplotlib.figure.Figure at 0x7f81b69b80f0>"
      ]
     },
     "metadata": {
      "needs_background": "light"
     },
     "output_type": "display_data"
    }
   ],
   "source": [
    "df.query('Gender == \"F\"').Age.value_counts().head(10).plot(kind='bar', title='Relationship between female patients and their ages')\n",
    "plt.xlabel('Ages of female patients', fontsize=18)\n",
    "plt.ylabel('Number of female patients', fontsize=18);"
   ]
  },
  {
   "cell_type": "markdown",
   "metadata": {},
   "source": [
    "A plot displaying the relationship between female patients and their ages"
   ]
  },
  {
   "cell_type": "code",
   "execution_count": 34,
   "metadata": {},
   "outputs": [
    {
     "data": {
      "text/plain": [
       "115"
      ]
     },
     "execution_count": 34,
     "metadata": {},
     "output_type": "execute_result"
    }
   ],
   "source": [
    "df.query('Gender == \"F\"').Age.max()"
   ]
  },
  {
   "cell_type": "code",
   "execution_count": 35,
   "metadata": {},
   "outputs": [
    {
     "data": {
      "text/plain": [
       "0     1818\n",
       "1     1185\n",
       "2      861\n",
       "5      832\n",
       "9      786\n",
       "6      768\n",
       "8      759\n",
       "3      749\n",
       "7      740\n",
       "10     705\n",
       "Name: Age, dtype: int64"
      ]
     },
     "execution_count": 35,
     "metadata": {},
     "output_type": "execute_result"
    }
   ],
   "source": [
    "#males and their age range\n",
    "\n",
    "df.query('Gender == \"M\"').Age.value_counts().head(10)"
   ]
  },
  {
   "cell_type": "code",
   "execution_count": 36,
   "metadata": {},
   "outputs": [
    {
     "data": {
      "text/plain": [
       "count     100.000000\n",
       "mean      386.870000\n",
       "std       268.740409\n",
       "min         1.000000\n",
       "25%       191.000000\n",
       "50%       395.500000\n",
       "75%       493.750000\n",
       "max      1818.000000\n",
       "Name: Age, dtype: float64"
      ]
     },
     "execution_count": 36,
     "metadata": {},
     "output_type": "execute_result"
    }
   ],
   "source": [
    "#Statistical data for the above relationship\n",
    "\n",
    "df.query('Gender == \"M\"').Age.value_counts().describe()"
   ]
  },
  {
   "cell_type": "code",
   "execution_count": 37,
   "metadata": {},
   "outputs": [
    {
     "data": {
      "image/png": "[encoded data removed]",
      "text/plain": [
       "<matplotlib.figure.Figure at 0x7f81b1c05470>"
      ]
     },
     "metadata": {
      "needs_background": "light"
     },
     "output_type": "display_data"
    }
   ],
   "source": [
    "df.query('Gender == \"M\"').Age.value_counts().head(10).plot(kind='bar', title='Relationship between male patients and their ages')\n",
    "plt.xlabel('Ages of male patients', fontsize=18)\n",
    "plt.ylabel('Number of patients', fontsize=18);"
   ]
  },
  {
   "cell_type": "markdown",
   "metadata": {},
   "source": [
    "A plot displaying the relationship between male patients and their ages"
   ]
  },
  {
   "cell_type": "code",
   "execution_count": 38,
   "metadata": {},
   "outputs": [
    {
     "data": {
      "text/plain": [
       "100"
      ]
     },
     "execution_count": 38,
     "metadata": {},
     "output_type": "execute_result"
    }
   ],
   "source": [
    "df.query('Gender == \"M\"').Age.max()"
   ]
  },
  {
   "cell_type": "markdown",
   "metadata": {},
   "source": [
    "The following can be deduced from the above plots and statistical data;\n",
    "\n",
    "* There were more patients of 0-yo for both males and females than any other ages.\n",
    "* As age increases, both male and female patients decreased\n",
    "* The mean number of female patients was 697 while for male patients, it was 387"
   ]
  },
  {
   "cell_type": "markdown",
   "metadata": {},
   "source": [
    "Relationship between Gender and No_show"
   ]
  },
  {
   "cell_type": "code",
   "execution_count": 39,
   "metadata": {},
   "outputs": [
    {
     "data": {
      "text/plain": [
       "True     30962\n",
       "False     7725\n",
       "Name: No_show, dtype: int64"
      ]
     },
     "execution_count": 39,
     "metadata": {},
     "output_type": "execute_result"
    }
   ],
   "source": [
    "df.query('Gender == \"M\"').No_show.value_counts()"
   ]
  },
  {
   "cell_type": "code",
   "execution_count": 40,
   "metadata": {},
   "outputs": [
    {
     "data": {
      "text/plain": [
       "True     57246\n",
       "False    14594\n",
       "Name: No_show, dtype: int64"
      ]
     },
     "execution_count": 40,
     "metadata": {},
     "output_type": "execute_result"
    }
   ],
   "source": [
    "df.query('Gender == \"F\"').No_show.value_counts()"
   ]
  },
  {
   "cell_type": "code",
   "execution_count": 41,
   "metadata": {},
   "outputs": [
    {
     "data": {
      "text/plain": [
       "Gender  No_show\n",
       "F       True       57246\n",
       "        False      14594\n",
       "M       True       30962\n",
       "        False       7725\n",
       "Name: No_show, dtype: int64"
      ]
     },
     "execution_count": 41,
     "metadata": {},
     "output_type": "execute_result"
    }
   ],
   "source": [
    "No_show_by_gender = df.groupby('Gender').No_show.value_counts()\n",
    "No_show_by_gender"
   ]
  },
  {
   "cell_type": "code",
   "execution_count": 42,
   "metadata": {},
   "outputs": [
    {
     "data": {
      "text/plain": [
       "count        4.000000\n",
       "mean     27631.750000\n",
       "std      22017.841165\n",
       "min       7725.000000\n",
       "25%      12876.750000\n",
       "50%      22778.000000\n",
       "75%      37533.000000\n",
       "max      57246.000000\n",
       "Name: No_show, dtype: float64"
      ]
     },
     "execution_count": 42,
     "metadata": {},
     "output_type": "execute_result"
    }
   ],
   "source": [
    "No_show_by_gender.describe(include='all')"
   ]
  },
  {
   "cell_type": "code",
   "execution_count": 43,
   "metadata": {},
   "outputs": [
    {
     "data": {
      "text/plain": [
       "No_show\n",
       "True     0.796854\n",
       "False    0.203146\n",
       "Name: No_show, dtype: float64"
      ]
     },
     "execution_count": 43,
     "metadata": {},
     "output_type": "execute_result"
    }
   ],
   "source": [
    "#Calculate frequencies of No_show for females\n",
    "\n",
    "No_show_femaleProp = No_show_by_gender['F']/total_gender['F']\n",
    "No_show_femaleProp"
   ]
  },
  {
   "cell_type": "code",
   "execution_count": 44,
   "metadata": {},
   "outputs": [
    {
     "data": {
      "text/plain": [
       "count    2.000000\n",
       "mean     0.500000\n",
       "std      0.419815\n",
       "min      0.203146\n",
       "25%      0.351573\n",
       "50%      0.500000\n",
       "75%      0.648427\n",
       "max      0.796854\n",
       "Name: No_show, dtype: float64"
      ]
     },
     "execution_count": 44,
     "metadata": {},
     "output_type": "execute_result"
    }
   ],
   "source": [
    "No_show_femaleProp.describe()"
   ]
  },
  {
   "cell_type": "code",
   "execution_count": 45,
   "metadata": {},
   "outputs": [
    {
     "data": {
      "image/png": "[encoded data removed]",
      "text/plain": [
       "<matplotlib.figure.Figure at 0x7f81b1ba5240>"
      ]
     },
     "metadata": {
      "needs_background": "light"
     },
     "output_type": "display_data"
    }
   ],
   "source": [
    "No_show_femaleProp.plot(kind='bar', title='Proportion of females that either showed up or not')\n",
    "plt.xlabel('No_show', fontsize=18)\n",
    "plt.ylabel('Proportion of females', fontsize=18);"
   ]
  },
  {
   "cell_type": "markdown",
   "metadata": {},
   "source": [
    "A graph showing the proportion of females that either showed up or not"
   ]
  },
  {
   "cell_type": "code",
   "execution_count": 46,
   "metadata": {
    "scrolled": true
   },
   "outputs": [
    {
     "data": {
      "text/plain": [
       "No_show\n",
       "True     0.800321\n",
       "False    0.199679\n",
       "Name: No_show, dtype: float64"
      ]
     },
     "execution_count": 46,
     "metadata": {},
     "output_type": "execute_result"
    }
   ],
   "source": [
    "#Calculate frequencies of No_show for males\n",
    "\n",
    "No_show_maleProp = No_show_by_gender['M']/total_gender['M']\n",
    "No_show_maleProp"
   ]
  },
  {
   "cell_type": "code",
   "execution_count": 47,
   "metadata": {},
   "outputs": [
    {
     "data": {
      "text/plain": [
       "count    2.000000\n",
       "mean     0.500000\n",
       "std      0.424717\n",
       "min      0.199679\n",
       "25%      0.349840\n",
       "50%      0.500000\n",
       "75%      0.650160\n",
       "max      0.800321\n",
       "Name: No_show, dtype: float64"
      ]
     },
     "execution_count": 47,
     "metadata": {},
     "output_type": "execute_result"
    }
   ],
   "source": [
    "No_show_maleProp.describe()"
   ]
  },
  {
   "cell_type": "code",
   "execution_count": 48,
   "metadata": {},
   "outputs": [
    {
     "data": {
      "image/png": "[encoded data removed]",
      "text/plain": [
       "<matplotlib.figure.Figure at 0x7f81b1b50588>"
      ]
     },
     "metadata": {
      "needs_background": "light"
     },
     "output_type": "display_data"
    }
   ],
   "source": [
    "No_show_maleProp.plot(kind='bar', title='Proportion of males that either showed up or not')\n",
    "plt.xlabel('No_show', fontsize=18)\n",
    "plt.ylabel('Proportion of males', fontsize=18);"
   ]
  },
  {
   "cell_type": "markdown",
   "metadata": {},
   "source": [
    "A graph showing the proportion of males that either showed up or not"
   ]
  },
  {
   "cell_type": "code",
   "execution_count": 49,
   "metadata": {},
   "outputs": [
    {
     "data": {
      "text/plain": [
       "No_show\n",
       "True     1.004350\n",
       "False    0.982936\n",
       "Name: No_show, dtype: float64"
      ]
     },
     "execution_count": 49,
     "metadata": {},
     "output_type": "execute_result"
    }
   ],
   "source": [
    "#Male to female proportion\n",
    "\n",
    "No_show_maleProp/No_show_femaleProp"
   ]
  },
  {
   "cell_type": "markdown",
   "metadata": {},
   "source": [
    "The above plots show the proportion of males and females that either showed up or not. It can therefore be concluded that approximately 80% of males and females in total showed up for their appointments even though there were more women overall."
   ]
  },
  {
   "cell_type": "code",
   "execution_count": 50,
   "metadata": {},
   "outputs": [],
   "source": [
    "def countp(col_name):\n",
    "    sns.countplot(col_name)"
   ]
  },
  {
   "cell_type": "code",
   "execution_count": 51,
   "metadata": {
    "scrolled": true
   },
   "outputs": [
    {
     "data": {
      "image/png": "[encoded data removed]",
      "text/plain": [
       "<matplotlib.figure.Figure at 0x7f81b1ad30f0>"
      ]
     },
     "metadata": {
      "needs_background": "light"
     },
     "output_type": "display_data"
    }
   ],
   "source": [
    "#The relationship between gender and No_show. this shows us the gender with a higher chance of showing up\n",
    "\n",
    "sns.countplot(df.Gender,hue=df['No_show']).set_title('Graph of Gender that either showed up or not');"
   ]
  },
  {
   "cell_type": "markdown",
   "metadata": {},
   "source": [
    "This plot shows males and females that either showed up or not for their appointment"
   ]
  },
  {
   "cell_type": "code",
   "execution_count": 52,
   "metadata": {
    "scrolled": true
   },
   "outputs": [
    {
     "data": {
      "image/png": "[encoded data removed]",
      "text/plain": [
       "<matplotlib.figure.Figure at 0x7f81b1a303c8>"
      ]
     },
     "metadata": {
      "needs_background": "light"
     },
     "output_type": "display_data"
    }
   ],
   "source": [
    "df.query('Gender == \"M\"').No_show.value_counts().plot(kind='bar', title='A graph of males that showed and didnt show up')\n",
    "plt.xlabel('No_show', fontsize=18)\n",
    "plt.ylabel('Male patients', fontsize=18);"
   ]
  },
  {
   "cell_type": "markdown",
   "metadata": {},
   "source": [
    "A graph that shows male patients that either showed up or not for their appointment.\n",
    "\n",
    "More male patients showed up for their appointment while less than 10000 didnt show up"
   ]
  },
  {
   "cell_type": "code",
   "execution_count": 53,
   "metadata": {},
   "outputs": [
    {
     "data": {
      "image/png": "[encoded data removed]",
      "text/plain": [
       "<matplotlib.figure.Figure at 0x7f81b1b18588>"
      ]
     },
     "metadata": {
      "needs_background": "light"
     },
     "output_type": "display_data"
    }
   ],
   "source": [
    "df.query('Gender == \"F\"').No_show.value_counts().plot(kind='bar', title='A graph of females that showed and didnt show up')\n",
    "plt.xlabel('No_show', fontsize=18)\n",
    "plt.ylabel('Female patients', fontsize=18);"
   ]
  },
  {
   "cell_type": "markdown",
   "metadata": {},
   "source": [
    "From the above graphs and statistical data, the following can be deduced;\n",
    "\n",
    "* Over 57000 females and 30000 males showed up for their appointments\n",
    "* The amount of males and females that didnt show up was less than 25% of each total.\n",
    "* The probability of either a male or female showing up is more than not showing up"
   ]
  },
  {
   "cell_type": "code",
   "execution_count": 54,
   "metadata": {},
   "outputs": [
    {
     "data": {
      "text/plain": [
       "Gender  Neighbourhood      \n",
       "F       JARDIM CAMBURI         5144\n",
       "        MARIA ORTIZ            3735\n",
       "        RESISTÊNCIA            2913\n",
       "        JARDIM DA PENHA        2665\n",
       "        ITARARÉ                2266\n",
       "        TABUAZEIRO             2022\n",
       "        SANTA MARTHA           2016\n",
       "        CENTRO                 1970\n",
       "        JESUS DE NAZARETH      1811\n",
       "        SANTO ANTÔNIO          1811\n",
       "        BONFIM                 1738\n",
       "        SANTO ANDRÉ            1697\n",
       "        CARATOÍRA              1681\n",
       "        JABOUR                 1628\n",
       "        ILHA DO PRÍNCIPE       1550\n",
       "        SÃO PEDRO              1536\n",
       "        DA PENHA               1515\n",
       "        NOVA PALESTINA         1498\n",
       "        ANDORINHAS             1482\n",
       "        ROMÃO                  1388\n",
       "        SÃO JOSÉ               1279\n",
       "        GURIGICA               1275\n",
       "        ILHA DE SANTA MARIA    1259\n",
       "        BELA VISTA             1257\n",
       "        MARUÍPE                1255\n",
       "        SÃO CRISTÓVÃO          1207\n",
       "        FORTE SÃO JOÃO         1202\n",
       "        REDENÇÃO               1066\n",
       "        SÃO BENEDITO            975\n",
       "        CRUZAMENTO              926\n",
       "                               ... \n",
       "M       ESTRELINHA              218\n",
       "        DO CABRAL               213\n",
       "        MATA DA PRAIA           205\n",
       "        SANTOS REIS             197\n",
       "        SANTA CLARA             194\n",
       "        DO MOSCOSO              184\n",
       "        MÁRIO CYPRESTE          178\n",
       "        PIEDADE                 165\n",
       "        SANTA LUÍZA             153\n",
       "        SANTA LÚCIA             148\n",
       "        BARRO VERMELHO          127\n",
       "        SANTA CECÍLIA           127\n",
       "        COMDUSA                 117\n",
       "        BOA VISTA               116\n",
       "        SOLON BORGES            114\n",
       "        DE LOURDES              110\n",
       "        ARIOVALDO FAVALESSA     103\n",
       "        FRADINHOS               102\n",
       "        ANTÔNIO HONÓRIO          98\n",
       "        ENSEADA DO SUÁ           82\n",
       "        HORTO                    63\n",
       "        SANTA HELENA             57\n",
       "        SEGURANÇA DO LAR         53\n",
       "        UNIVERSITÁRIO            38\n",
       "        NAZARETH                 37\n",
       "        MORADA DE CAMBURI        30\n",
       "        PONTAL DE CAMBURI        23\n",
       "        ILHA DO BOI              16\n",
       "        ILHA DO FRADE            10\n",
       "        AEROPORTO                 3\n",
       "Name: Neighbourhood, Length: 159, dtype: int64"
      ]
     },
     "execution_count": 54,
     "metadata": {},
     "output_type": "execute_result"
    }
   ],
   "source": [
    "#Gender and Neighbourhood\n",
    "\n",
    "df.groupby('Gender').Neighbourhood.value_counts()"
   ]
  },
  {
   "cell_type": "code",
   "execution_count": 55,
   "metadata": {},
   "outputs": [
    {
     "data": {
      "text/plain": [
       "ILHA DO PRÍNCIPE               579\n",
       "TABUAZEIRO                     537\n",
       "RESISTÊNCIA                    468\n",
       "CARATOÍRA                      456\n",
       "SANTA MARTHA                   441\n",
       "GURIGICA                       422\n",
       "SÃO BENEDITO                   404\n",
       "BONFIM                         373\n",
       "SANTO ANDRÉ                    334\n",
       "ANDORINHAS                     323\n",
       "SÃO PEDRO                      321\n",
       "ITARARÉ                        311\n",
       "NOVA PALESTINA                 310\n",
       "DA PENHA                       292\n",
       "JABOUR                         272\n",
       "JESUS DE NAZARETH              270\n",
       "SANTOS DUMONT                  235\n",
       "BELA VISTA                     225\n",
       "JOANA D´ARC                    219\n",
       "ILHA DAS CAIEIRAS              203\n",
       "SANTA TEREZA                   201\n",
       "CONSOLAÇÃO                     199\n",
       "SÃO JOSÉ                       180\n",
       "ROMÃO                          178\n",
       "SÃO CRISTÓVÃO                  174\n",
       "CRUZAMENTO                     170\n",
       "JARDIM CAMBURI                 159\n",
       "REDENÇÃO                       156\n",
       "SANTO ANTÔNIO                  151\n",
       "PRAIA DO SUÁ                   151\n",
       "                              ... \n",
       "SANTA CECÍLIA                   25\n",
       "BENTO FERREIRA                  23\n",
       "ILHA DE SANTA MARIA             23\n",
       "BOA VISTA                       23\n",
       "MÁRIO CYPRESTE                  16\n",
       "ANTÔNIO HONÓRIO                 14\n",
       "FRADINHOS                       12\n",
       "JUCUTUQUARA                     12\n",
       "JARDIM DA PENHA                 11\n",
       "PARQUE MOSCOSO                  10\n",
       "SEGURANÇA DO LAR                 9\n",
       "REPÚBLICA                        9\n",
       "SANTA LÚCIA                      8\n",
       "SANTA LUÍZA                      7\n",
       "MATA DA PRAIA                    6\n",
       "ENSEADA DO SUÁ                   6\n",
       "HORTO                            6\n",
       "PONTAL DE CAMBURI                5\n",
       "DE LOURDES                       5\n",
       "MONTE BELO                       5\n",
       "UNIVERSITÁRIO                    5\n",
       "NAZARETH                         2\n",
       "PRAIA DO CANTO                   0\n",
       "ILHAS OCEÂNICAS DE TRINDADE      0\n",
       "PARQUE INDUSTRIAL                0\n",
       "MORADA DE CAMBURI                0\n",
       "BARRO VERMELHO                   0\n",
       "ILHA DO BOI                      0\n",
       "ILHA DO FRADE                    0\n",
       "AEROPORTO                        0\n",
       "Name: Neighbourhood, Length: 81, dtype: int64"
      ]
     },
     "execution_count": 55,
     "metadata": {},
     "output_type": "execute_result"
    }
   ],
   "source": [
    "#Neighbourhood with their patients that were awarded a scholarship\n",
    "\n",
    "df.query('Scholarship == True').Neighbourhood.value_counts()"
   ]
  },
  {
   "cell_type": "code",
   "execution_count": 56,
   "metadata": {},
   "outputs": [
    {
     "data": {
      "text/plain": [
       "JARDIM CAMBURI                 6252\n",
       "MARIA ORTIZ                    4586\n",
       "RESISTÊNCIA                    3525\n",
       "JARDIM DA PENHA                3246\n",
       "SANTA MARTHA                   2635\n",
       "CENTRO                         2631\n",
       "ITARARÉ                        2591\n",
       "TABUAZEIRO                     2559\n",
       "SANTO ANTÔNIO                  2262\n",
       "BONFIM                         2223\n",
       "JESUS DE NAZARETH              2157\n",
       "SANTO ANDRÉ                    2063\n",
       "JABOUR                         2058\n",
       "CARATOÍRA                      1974\n",
       "SÃO PEDRO                      1933\n",
       "NOVA PALESTINA                 1862\n",
       "DA PENHA                       1788\n",
       "ANDORINHAS                     1741\n",
       "ROMÃO                          1741\n",
       "ILHA DO PRÍNCIPE               1734\n",
       "GURIGICA                       1562\n",
       "SÃO JOSÉ                       1549\n",
       "FORTE SÃO JOÃO                 1543\n",
       "ILHA DE SANTA MARIA            1524\n",
       "BELA VISTA                     1523\n",
       "MARUÍPE                        1478\n",
       "SÃO CRISTÓVÃO                  1473\n",
       "REDENÇÃO                       1278\n",
       "JOANA D´ARC                    1169\n",
       "SÃO BENEDITO                   1152\n",
       "                               ... \n",
       "SANTOS REIS                     435\n",
       "ESTRELINHA                      432\n",
       "SOLON BORGES                    400\n",
       "SANTA CLARA                     372\n",
       "PIEDADE                         364\n",
       "SANTA LÚCIA                     352\n",
       "SANTA LUÍZA                     351\n",
       "BARRO VERMELHO                  332\n",
       "SANTA CECÍLIA                   325\n",
       "DO MOSCOSO                      321\n",
       "MÁRIO CYPRESTE                  317\n",
       "DE LOURDES                      258\n",
       "BOA VISTA                       254\n",
       "COMDUSA                         254\n",
       "ANTÔNIO HONÓRIO                 221\n",
       "ARIOVALDO FAVALESSA             220\n",
       "FRADINHOS                       210\n",
       "ENSEADA DO SUÁ                  183\n",
       "SANTA HELENA                    141\n",
       "HORTO                           133\n",
       "UNIVERSITÁRIO                   120\n",
       "SEGURANÇA DO LAR                117\n",
       "NAZARETH                        106\n",
       "MORADA DE CAMBURI                80\n",
       "PONTAL DE CAMBURI                57\n",
       "ILHA DO BOI                      32\n",
       "ILHA DO FRADE                     8\n",
       "AEROPORTO                         7\n",
       "PARQUE INDUSTRIAL                 1\n",
       "ILHAS OCEÂNICAS DE TRINDADE       0\n",
       "Name: Neighbourhood, Length: 81, dtype: int64"
      ]
     },
     "execution_count": 56,
     "metadata": {},
     "output_type": "execute_result"
    }
   ],
   "source": [
    "#Neighbourhoods with their patients that showed up\n",
    "\n",
    "df.query('No_show == True').Neighbourhood.value_counts()"
   ]
  },
  {
   "cell_type": "code",
   "execution_count": 57,
   "metadata": {},
   "outputs": [
    {
     "data": {
      "text/plain": [
       "count      81.000000\n",
       "mean     1088.987654\n",
       "std      1096.260581\n",
       "min         0.000000\n",
       "25%       321.000000\n",
       "50%       709.000000\n",
       "75%      1562.000000\n",
       "max      6252.000000\n",
       "Name: Neighbourhood, dtype: float64"
      ]
     },
     "execution_count": 57,
     "metadata": {},
     "output_type": "execute_result"
    }
   ],
   "source": [
    "#Statisical rep of the relationship between Neighbourhood and No_show\n",
    "\n",
    "df.query('No_show == True').Neighbourhood.value_counts().describe(include='all')"
   ]
  },
  {
   "cell_type": "code",
   "execution_count": 58,
   "metadata": {
    "scrolled": true
   },
   "outputs": [
    {
     "data": {
      "text/html": [
       "<div>\n",
       "<style scoped>\n",
       "    .dataframe tbody tr th:only-of-type {\n",
       "        vertical-align: middle;\n",
       "    }\n",
       "\n",
       "    .dataframe tbody tr th {\n",
       "        vertical-align: top;\n",
       "    }\n",
       "\n",
       "    .dataframe thead th {\n",
       "        text-align: right;\n",
       "    }\n",
       "</style>\n",
       "<table border=\"1\" class=\"dataframe\">\n",
       "  <thead>\n",
       "    <tr style=\"text-align: right;\">\n",
       "      <th></th>\n",
       "      <th>PatientId</th>\n",
       "      <th>Age</th>\n",
       "      <th>Scholarship</th>\n",
       "      <th>Hypertension</th>\n",
       "      <th>Diabetes</th>\n",
       "      <th>Alcoholism</th>\n",
       "      <th>SMS_received</th>\n",
       "      <th>No_show</th>\n",
       "    </tr>\n",
       "  </thead>\n",
       "  <tbody>\n",
       "    <tr>\n",
       "      <th>PatientId</th>\n",
       "      <td>1.000000</td>\n",
       "      <td>-0.004139</td>\n",
       "      <td>-0.002880</td>\n",
       "      <td>-0.006441</td>\n",
       "      <td>0.001605</td>\n",
       "      <td>0.011011</td>\n",
       "      <td>-0.009749</td>\n",
       "      <td>0.001461</td>\n",
       "    </tr>\n",
       "    <tr>\n",
       "      <th>Age</th>\n",
       "      <td>-0.004139</td>\n",
       "      <td>1.000000</td>\n",
       "      <td>-0.092457</td>\n",
       "      <td>0.504586</td>\n",
       "      <td>0.292392</td>\n",
       "      <td>0.095811</td>\n",
       "      <td>0.012643</td>\n",
       "      <td>0.060319</td>\n",
       "    </tr>\n",
       "    <tr>\n",
       "      <th>Scholarship</th>\n",
       "      <td>-0.002880</td>\n",
       "      <td>-0.092457</td>\n",
       "      <td>1.000000</td>\n",
       "      <td>-0.019729</td>\n",
       "      <td>-0.024894</td>\n",
       "      <td>0.035022</td>\n",
       "      <td>0.001194</td>\n",
       "      <td>-0.029135</td>\n",
       "    </tr>\n",
       "    <tr>\n",
       "      <th>Hypertension</th>\n",
       "      <td>-0.006441</td>\n",
       "      <td>0.504586</td>\n",
       "      <td>-0.019729</td>\n",
       "      <td>1.000000</td>\n",
       "      <td>0.433086</td>\n",
       "      <td>0.087971</td>\n",
       "      <td>-0.006267</td>\n",
       "      <td>0.035701</td>\n",
       "    </tr>\n",
       "    <tr>\n",
       "      <th>Diabetes</th>\n",
       "      <td>0.001605</td>\n",
       "      <td>0.292392</td>\n",
       "      <td>-0.024894</td>\n",
       "      <td>0.433086</td>\n",
       "      <td>1.000000</td>\n",
       "      <td>0.018474</td>\n",
       "      <td>-0.014550</td>\n",
       "      <td>0.015180</td>\n",
       "    </tr>\n",
       "    <tr>\n",
       "      <th>Alcoholism</th>\n",
       "      <td>0.011011</td>\n",
       "      <td>0.095811</td>\n",
       "      <td>0.035022</td>\n",
       "      <td>0.087971</td>\n",
       "      <td>0.018474</td>\n",
       "      <td>1.000000</td>\n",
       "      <td>-0.026147</td>\n",
       "      <td>0.000196</td>\n",
       "    </tr>\n",
       "    <tr>\n",
       "      <th>SMS_received</th>\n",
       "      <td>-0.009749</td>\n",
       "      <td>0.012643</td>\n",
       "      <td>0.001194</td>\n",
       "      <td>-0.006267</td>\n",
       "      <td>-0.014550</td>\n",
       "      <td>-0.026147</td>\n",
       "      <td>1.000000</td>\n",
       "      <td>-0.126431</td>\n",
       "    </tr>\n",
       "    <tr>\n",
       "      <th>No_show</th>\n",
       "      <td>0.001461</td>\n",
       "      <td>0.060319</td>\n",
       "      <td>-0.029135</td>\n",
       "      <td>0.035701</td>\n",
       "      <td>0.015180</td>\n",
       "      <td>0.000196</td>\n",
       "      <td>-0.126431</td>\n",
       "      <td>1.000000</td>\n",
       "    </tr>\n",
       "  </tbody>\n",
       "</table>\n",
       "</div>"
      ],
      "text/plain": [
       "              PatientId       Age  Scholarship  Hypertension  Diabetes  \\\n",
       "PatientId      1.000000 -0.004139    -0.002880     -0.006441  0.001605   \n",
       "Age           -0.004139  1.000000    -0.092457      0.504586  0.292392   \n",
       "Scholarship   -0.002880 -0.092457     1.000000     -0.019729 -0.024894   \n",
       "Hypertension  -0.006441  0.504586    -0.019729      1.000000  0.433086   \n",
       "Diabetes       0.001605  0.292392    -0.024894      0.433086  1.000000   \n",
       "Alcoholism     0.011011  0.095811     0.035022      0.087971  0.018474   \n",
       "SMS_received  -0.009749  0.012643     0.001194     -0.006267 -0.014550   \n",
       "No_show        0.001461  0.060319    -0.029135      0.035701  0.015180   \n",
       "\n",
       "              Alcoholism  SMS_received   No_show  \n",
       "PatientId       0.011011     -0.009749  0.001461  \n",
       "Age             0.095811      0.012643  0.060319  \n",
       "Scholarship     0.035022      0.001194 -0.029135  \n",
       "Hypertension    0.087971     -0.006267  0.035701  \n",
       "Diabetes        0.018474     -0.014550  0.015180  \n",
       "Alcoholism      1.000000     -0.026147  0.000196  \n",
       "SMS_received   -0.026147      1.000000 -0.126431  \n",
       "No_show         0.000196     -0.126431  1.000000  "
      ]
     },
     "execution_count": 58,
     "metadata": {},
     "output_type": "execute_result"
    }
   ],
   "source": [
    "#Correlation between features i.e variables\n",
    "\n",
    "df.corr('pearson')"
   ]
  },
  {
   "cell_type": "markdown",
   "metadata": {},
   "source": [
    "Relationship between more than two variables;\n",
    "\n",
    "Age, Gender and No_show"
   ]
  },
  {
   "cell_type": "code",
   "execution_count": 59,
   "metadata": {},
   "outputs": [
    {
     "data": {
      "text/plain": [
       "0      1403\n",
       "56      989\n",
       "52      951\n",
       "53      934\n",
       "51      930\n",
       "54      901\n",
       "37      893\n",
       "1       886\n",
       "38      884\n",
       "50      881\n",
       "49      879\n",
       "30      873\n",
       "57      868\n",
       "36      859\n",
       "33      858\n",
       "32      857\n",
       "39      852\n",
       "59      850\n",
       "60      849\n",
       "19      843\n",
       "34      837\n",
       "45      835\n",
       "28      831\n",
       "58      826\n",
       "21      823\n",
       "29      821\n",
       "31      811\n",
       "18      808\n",
       "47      807\n",
       "20      802\n",
       "       ... \n",
       "76      351\n",
       "72      350\n",
       "74      349\n",
       "75      308\n",
       "80      302\n",
       "77      295\n",
       "78      288\n",
       "81      242\n",
       "79      206\n",
       "82      205\n",
       "84      167\n",
       "86      158\n",
       "85      154\n",
       "83      153\n",
       "87      114\n",
       "89      107\n",
       "88       84\n",
       "90       58\n",
       "92       46\n",
       "91       44\n",
       "93       23\n",
       "95       14\n",
       "94       13\n",
       "96       12\n",
       "97        8\n",
       "98        4\n",
       "102       2\n",
       "115       2\n",
       "100       2\n",
       "99        1\n",
       "Name: Age, Length: 103, dtype: int64"
      ]
     },
     "execution_count": 59,
     "metadata": {},
     "output_type": "execute_result"
    }
   ],
   "source": [
    "#Ages of females that showed up for their appointment\n",
    "\n",
    "df.query('Gender == \"F\" and No_show == True').Age.value_counts()"
   ]
  },
  {
   "cell_type": "markdown",
   "metadata": {},
   "source": [
    "top 5 ages of men that showed up the most for their appointments"
   ]
  },
  {
   "cell_type": "code",
   "execution_count": 60,
   "metadata": {},
   "outputs": [
    {
     "data": {
      "text/plain": [
       "0    1498\n",
       "1     972\n",
       "2     720\n",
       "5     657\n",
       "3     615\n",
       "Name: Age, dtype: int64"
      ]
     },
     "execution_count": 60,
     "metadata": {},
     "output_type": "execute_result"
    }
   ],
   "source": [
    "df.query('Gender == \"M\" and No_show == True').Age.value_counts().head(5)"
   ]
  },
  {
   "cell_type": "code",
   "execution_count": 61,
   "metadata": {
    "scrolled": true
   },
   "outputs": [
    {
     "data": {
      "text/plain": [
       "count     100.000000\n",
       "mean      309.620000\n",
       "std       217.014629\n",
       "min         1.000000\n",
       "25%       164.000000\n",
       "50%       308.500000\n",
       "75%       389.250000\n",
       "max      1498.000000\n",
       "Name: Age, dtype: float64"
      ]
     },
     "execution_count": 61,
     "metadata": {},
     "output_type": "execute_result"
    }
   ],
   "source": [
    "df.query('Gender == \"M\" and No_show == True').Age.value_counts().describe()"
   ]
  },
  {
   "cell_type": "code",
   "execution_count": 62,
   "metadata": {},
   "outputs": [
    {
     "data": {
      "image/png": "[encoded data removed]",
      "text/plain": [
       "<matplotlib.figure.Figure at 0x7f81e3fec978>"
      ]
     },
     "metadata": {
      "needs_background": "light"
     },
     "output_type": "display_data"
    }
   ],
   "source": [
    "df.query('Gender == \"M\" and No_show == True').Age.value_counts().head(5).plot(kind=\"bar\", title='A graph of top 5 ages of men that showed up the most for their appointment')\n",
    "plt.xlabel('Ages of male patients', fontsize=18)\n",
    "plt.ylabel('No of males', fontsize=18);"
   ]
  },
  {
   "cell_type": "markdown",
   "metadata": {},
   "source": [
    "From the above graph, it can be seen as age increases, the likelihood for a man to show up for an appointment decreases. To further buttress this point, lets check the bottom 5 ages and compare. Also, from the statistical data above, the mean number of men was 892."
   ]
  },
  {
   "cell_type": "code",
   "execution_count": 63,
   "metadata": {},
   "outputs": [
    {
     "data": {
      "image/png": "[encoded data removed]",
      "text/plain": [
       "<matplotlib.figure.Figure at 0x7f81b19de6d8>"
      ]
     },
     "metadata": {
      "needs_background": "light"
     },
     "output_type": "display_data"
    }
   ],
   "source": [
    "df.query('Gender == \"M\" and No_show == True').Age.value_counts().tail(5).plot(kind=\"bar\", title='A graph of top 5 ages of men that showed up the most for their appointment')\n",
    "plt.xlabel('Ages of male patients', fontsize=18)\n",
    "plt.ylabel('No of males', fontsize=18);"
   ]
  },
  {
   "cell_type": "markdown",
   "metadata": {},
   "source": [
    "The graph further buttresses our point as can be seen above"
   ]
  },
  {
   "cell_type": "code",
   "execution_count": 64,
   "metadata": {},
   "outputs": [
    {
     "data": {
      "text/plain": [
       "0      1498\n",
       "1       972\n",
       "2       720\n",
       "5       657\n",
       "3       615\n",
       "6       609\n",
       "7       594\n",
       "8       583\n",
       "9       558\n",
       "4       539\n",
       "10      533\n",
       "59      507\n",
       "63      506\n",
       "52      498\n",
       "11      488\n",
       "49      475\n",
       "57      457\n",
       "50      441\n",
       "38      425\n",
       "64      421\n",
       "46      418\n",
       "13      405\n",
       "53      398\n",
       "12      391\n",
       "58      390\n",
       "44      389\n",
       "55      388\n",
       "40      386\n",
       "56      383\n",
       "66      379\n",
       "       ... \n",
       "73      225\n",
       "70      221\n",
       "71      196\n",
       "74      164\n",
       "78      164\n",
       "72      164\n",
       "75      155\n",
       "77      153\n",
       "76      129\n",
       "81      129\n",
       "80      128\n",
       "79      123\n",
       "82      121\n",
       "84      109\n",
       "85       72\n",
       "83       66\n",
       "86       60\n",
       "87       43\n",
       "89       37\n",
       "88       30\n",
       "90       28\n",
       "92       20\n",
       "93       20\n",
       "94       14\n",
       "91        9\n",
       "95        4\n",
       "96        4\n",
       "100       2\n",
       "97        1\n",
       "98        1\n",
       "Name: Age, Length: 100, dtype: int64"
      ]
     },
     "execution_count": 64,
     "metadata": {},
     "output_type": "execute_result"
    }
   ],
   "source": [
    "#Ages of males that showed up for their appointment\n",
    "\n",
    "df.query('Gender == \"M\" and No_show == True').Age.value_counts()"
   ]
  },
  {
   "cell_type": "code",
   "execution_count": 65,
   "metadata": {
    "scrolled": true
   },
   "outputs": [
    {
     "data": {
      "text/plain": [
       "0     320\n",
       "9     228\n",
       "1     213\n",
       "8     176\n",
       "5     175\n",
       "10    172\n",
       "14    159\n",
       "Name: Age, dtype: int64"
      ]
     },
     "execution_count": 65,
     "metadata": {},
     "output_type": "execute_result"
    }
   ],
   "source": [
    "#Ages of males that didnt show up for their appointment\n",
    "\n",
    "df.query('Gender == \"M\" and No_show == False').Age.value_counts().head(7)"
   ]
  },
  {
   "cell_type": "code",
   "execution_count": 66,
   "metadata": {},
   "outputs": [
    {
     "data": {
      "image/png": "[encoded data removed]",
      "text/plain": [
       "<matplotlib.figure.Figure at 0x7f81b19836d8>"
      ]
     },
     "metadata": {
      "needs_background": "light"
     },
     "output_type": "display_data"
    }
   ],
   "source": [
    "df.query('Gender == \"M\" and No_show == False').Age.value_counts().head(10).plot(kind=\"bar\", title='A graph of males that didnt show up for their appointment')\n",
    "plt.xlabel('Ages of male patients', fontsize=18)\n",
    "plt.ylabel('No of males', fontsize=18);"
   ]
  },
  {
   "cell_type": "markdown",
   "metadata": {},
   "source": [
    "A graph that shows the ages of male patients that didnt show up for their appointment"
   ]
  },
  {
   "cell_type": "code",
   "execution_count": 67,
   "metadata": {},
   "outputs": [
    {
     "data": {
      "text/plain": [
       "0     319\n",
       "30    291\n",
       "19    280\n",
       "21    270\n",
       "25    268\n",
       "22    266\n",
       "29    263\n",
       "20    262\n",
       "23    258\n",
       "28    255\n",
       "17    249\n",
       "18    248\n",
       "33    240\n",
       "39    240\n",
       "31    235\n",
       "24    231\n",
       "34    230\n",
       "41    229\n",
       "36    229\n",
       "27    227\n",
       "Name: Age, dtype: int64"
      ]
     },
     "execution_count": 67,
     "metadata": {},
     "output_type": "execute_result"
    }
   ],
   "source": [
    "#Ages of females that didnt show up for their appointment\n",
    "\n",
    "df.query('Gender == \"F\" and No_show == False').Age.value_counts().head(20)"
   ]
  },
  {
   "cell_type": "code",
   "execution_count": 68,
   "metadata": {},
   "outputs": [
    {
     "data": {
      "image/png": "[encoded data removed]",
      "text/plain": [
       "<matplotlib.figure.Figure at 0x7f81b1a1ff98>"
      ]
     },
     "metadata": {
      "needs_background": "light"
     },
     "output_type": "display_data"
    }
   ],
   "source": [
    "df.query('Gender == \"F\" and No_show == False').Age.value_counts().head(10).plot(kind=\"bar\", title='A graph of females that didnt show up for their appointment')\n",
    "plt.xlabel('Ages of female patients', fontsize=18)\n",
    "plt.ylabel('No of females', fontsize=18);"
   ]
  },
  {
   "cell_type": "markdown",
   "metadata": {},
   "source": [
    "A graph that shows the ages of female patients that didnt show up for their appointment "
   ]
  },
  {
   "cell_type": "code",
   "execution_count": 69,
   "metadata": {},
   "outputs": [
    {
     "data": {
      "text/plain": [
       "count    100.000000\n",
       "mean     145.940000\n",
       "std       87.137743\n",
       "min        1.000000\n",
       "25%       62.000000\n",
       "50%      156.000000\n",
       "75%      221.000000\n",
       "max      319.000000\n",
       "Name: Age, dtype: float64"
      ]
     },
     "execution_count": 69,
     "metadata": {},
     "output_type": "execute_result"
    }
   ],
   "source": [
    "df.query('Gender == \"F\" and No_show == False').Age.value_counts().describe()"
   ]
  },
  {
   "cell_type": "markdown",
   "metadata": {},
   "source": [
    "The same conclusion with top 5 ages of men that showed up for their appointments can also be deduced for (Age, Gender and No_show) relationships. There happens to be an inverse relationship between all 3 above for those that either showed up or not "
   ]
  },
  {
   "cell_type": "code",
   "execution_count": 70,
   "metadata": {},
   "outputs": [
    {
     "data": {
      "text/plain": [
       "ILHA DO PRÍNCIPE               438\n",
       "TABUAZEIRO                     433\n",
       "RESISTÊNCIA                    374\n",
       "CARATOÍRA                      352\n",
       "SANTA MARTHA                   344\n",
       "SÃO BENEDITO                   327\n",
       "GURIGICA                       311\n",
       "BONFIM                         283\n",
       "SÃO PEDRO                      255\n",
       "SANTO ANDRÉ                    255\n",
       "NOVA PALESTINA                 243\n",
       "ANDORINHAS                     231\n",
       "ITARARÉ                        222\n",
       "JESUS DE NAZARETH              208\n",
       "DA PENHA                       207\n",
       "JABOUR                         199\n",
       "BELA VISTA                     178\n",
       "JOANA D´ARC                    173\n",
       "SANTOS DUMONT                  171\n",
       "ILHA DAS CAIEIRAS              160\n",
       "CONSOLAÇÃO                     158\n",
       "SANTA TEREZA                   147\n",
       "SÃO CRISTÓVÃO                  138\n",
       "SÃO JOSÉ                       133\n",
       "ROMÃO                          131\n",
       "CRUZAMENTO                     125\n",
       "REDENÇÃO                       125\n",
       "JARDIM CAMBURI                 116\n",
       "CENTRO                         111\n",
       "FORTE SÃO JOÃO                 109\n",
       "                              ... \n",
       "ILHA DE SANTA MARIA             18\n",
       "SANTA CLARA                     17\n",
       "BOA VISTA                       17\n",
       "BENTO FERREIRA                  16\n",
       "MÁRIO CYPRESTE                  12\n",
       "JARDIM DA PENHA                 10\n",
       "FRADINHOS                       10\n",
       "JUCUTUQUARA                     10\n",
       "REPÚBLICA                        9\n",
       "ANTÔNIO HONÓRIO                  9\n",
       "SANTA LÚCIA                      8\n",
       "SEGURANÇA DO LAR                 7\n",
       "PARQUE MOSCOSO                   7\n",
       "SANTA LUÍZA                      6\n",
       "PONTAL DE CAMBURI                5\n",
       "MATA DA PRAIA                    5\n",
       "HORTO                            5\n",
       "DE LOURDES                       4\n",
       "ENSEADA DO SUÁ                   3\n",
       "UNIVERSITÁRIO                    2\n",
       "MONTE BELO                       2\n",
       "NAZARETH                         1\n",
       "BARRO VERMELHO                   0\n",
       "ILHAS OCEÂNICAS DE TRINDADE      0\n",
       "ILHA DO FRADE                    0\n",
       "MORADA DE CAMBURI                0\n",
       "ILHA DO BOI                      0\n",
       "PRAIA DO CANTO                   0\n",
       "PARQUE INDUSTRIAL                0\n",
       "AEROPORTO                        0\n",
       "Name: Neighbourhood, Length: 81, dtype: int64"
      ]
     },
     "execution_count": 70,
     "metadata": {},
     "output_type": "execute_result"
    }
   ],
   "source": [
    "#The neighbourhood with scholarships that showed up for appointment\n",
    "\n",
    "df.query('Scholarship == True and No_show == True').Neighbourhood.value_counts()"
   ]
  },
  {
   "cell_type": "code",
   "execution_count": 71,
   "metadata": {},
   "outputs": [
    {
     "data": {
      "text/plain": [
       "JARDIM CAMBURI                 6136\n",
       "MARIA ORTIZ                    4502\n",
       "JARDIM DA PENHA                3236\n",
       "RESISTÊNCIA                    3151\n",
       "CENTRO                         2520\n",
       "ITARARÉ                        2369\n",
       "SANTA MARTHA                   2291\n",
       "SANTO ANTÔNIO                  2160\n",
       "TABUAZEIRO                     2126\n",
       "JESUS DE NAZARETH              1949\n",
       "BONFIM                         1940\n",
       "JABOUR                         1859\n",
       "SANTO ANDRÉ                    1808\n",
       "SÃO PEDRO                      1678\n",
       "CARATOÍRA                      1622\n",
       "NOVA PALESTINA                 1619\n",
       "ROMÃO                          1610\n",
       "DA PENHA                       1581\n",
       "ANDORINHAS                     1510\n",
       "ILHA DE SANTA MARIA            1506\n",
       "FORTE SÃO JOÃO                 1434\n",
       "SÃO JOSÉ                       1416\n",
       "MARUÍPE                        1393\n",
       "BELA VISTA                     1345\n",
       "SÃO CRISTÓVÃO                  1335\n",
       "ILHA DO PRÍNCIPE               1296\n",
       "GURIGICA                       1251\n",
       "REDENÇÃO                       1153\n",
       "JOANA D´ARC                     996\n",
       "CONSOLAÇÃO                      981\n",
       "                               ... \n",
       "SOLON BORGES                    375\n",
       "ESTRELINHA                      374\n",
       "SANTA CLARA                     355\n",
       "SANTA LUÍZA                     345\n",
       "SANTA LÚCIA                     344\n",
       "SANTOS REIS                     338\n",
       "BARRO VERMELHO                  332\n",
       "MÁRIO CYPRESTE                  305\n",
       "SANTA CECÍLIA                   304\n",
       "PIEDADE                         268\n",
       "DE LOURDES                      254\n",
       "DO MOSCOSO                      248\n",
       "BOA VISTA                       237\n",
       "COMDUSA                         225\n",
       "ANTÔNIO HONÓRIO                 212\n",
       "FRADINHOS                       200\n",
       "ENSEADA DO SUÁ                  180\n",
       "ARIOVALDO FAVALESSA             176\n",
       "HORTO                           128\n",
       "UNIVERSITÁRIO                   118\n",
       "SANTA HELENA                    114\n",
       "SEGURANÇA DO LAR                110\n",
       "NAZARETH                        105\n",
       "MORADA DE CAMBURI                80\n",
       "PONTAL DE CAMBURI                52\n",
       "ILHA DO BOI                      32\n",
       "ILHA DO FRADE                     8\n",
       "AEROPORTO                         7\n",
       "PARQUE INDUSTRIAL                 1\n",
       "ILHAS OCEÂNICAS DE TRINDADE       0\n",
       "Name: Neighbourhood, Length: 81, dtype: int64"
      ]
     },
     "execution_count": 71,
     "metadata": {},
     "output_type": "execute_result"
    }
   ],
   "source": [
    "#The neighbourhood without scholarship that showed up for appointment\n",
    "\n",
    "df.query('Scholarship == False and No_show == True').Neighbourhood.value_counts()"
   ]
  },
  {
   "cell_type": "code",
   "execution_count": 72,
   "metadata": {},
   "outputs": [
    {
     "data": {
      "text/plain": [
       "JARDIM CAMBURI                 1422\n",
       "MARIA ORTIZ                    1184\n",
       "ITARARÉ                         834\n",
       "RESISTÊNCIA                     812\n",
       "CENTRO                          671\n",
       "JESUS DE NAZARETH               634\n",
       "JARDIM DA PENHA                 630\n",
       "CARATOÍRA                       487\n",
       "TABUAZEIRO                      469\n",
       "BONFIM                          460\n",
       "SÃO PEDRO                       449\n",
       "SANTO ANTÔNIO                   435\n",
       "ANDORINHAS                      429\n",
       "SANTO ANDRÉ                     429\n",
       "ROMÃO                           427\n",
       "SANTA MARTHA                    399\n",
       "ILHA DO PRÍNCIPE                391\n",
       "MARUÍPE                         388\n",
       "SÃO JOSÉ                        381\n",
       "JABOUR                          378\n",
       "ILHA DE SANTA MARIA             356\n",
       "GURIGICA                        345\n",
       "DA PENHA                        344\n",
       "BELA VISTA                      337\n",
       "NOVA PALESTINA                  335\n",
       "SÃO CRISTÓVÃO                   327\n",
       "FORTE SÃO JOÃO                  315\n",
       "SANTOS DUMONT                   305\n",
       "CRUZAMENTO                      259\n",
       "PRAIA DO SUÁ                    249\n",
       "                               ... \n",
       "MATA DA PRAIA                   109\n",
       "BARRO VERMELHO                   91\n",
       "SANTOS REIS                      89\n",
       "ESTRELINHA                       87\n",
       "SANTA LÚCIA                      86\n",
       "SANTA LUÍZA                      76\n",
       "PIEDADE                          69\n",
       "DO CABRAL                        63\n",
       "SOLON BORGES                     58\n",
       "DO MOSCOSO                       54\n",
       "ARIOVALDO FAVALESSA              54\n",
       "BOA VISTA                        52\n",
       "COMDUSA                          51\n",
       "MÁRIO CYPRESTE                   50\n",
       "ENSEADA DO SUÁ                   49\n",
       "FRADINHOS                        46\n",
       "DE LOURDES                       46\n",
       "ANTÔNIO HONÓRIO                  45\n",
       "HORTO                            41\n",
       "UNIVERSITÁRIO                    29\n",
       "SANTA HELENA                     29\n",
       "NAZARETH                         28\n",
       "SEGURANÇA DO LAR                 26\n",
       "MORADA DE CAMBURI                16\n",
       "PONTAL DE CAMBURI                12\n",
       "ILHA DO BOI                       3\n",
       "ILHAS OCEÂNICAS DE TRINDADE       2\n",
       "ILHA DO FRADE                     2\n",
       "AEROPORTO                         1\n",
       "PARQUE INDUSTRIAL                 0\n",
       "Name: Neighbourhood, Length: 81, dtype: int64"
      ]
     },
     "execution_count": 72,
     "metadata": {},
     "output_type": "execute_result"
    }
   ],
   "source": [
    "#The neighbourhood without scholarships that didnt show up for appointment\n",
    "\n",
    "df.query('Scholarship == False and No_show == False').Neighbourhood.value_counts()"
   ]
  },
  {
   "cell_type": "code",
   "execution_count": 73,
   "metadata": {},
   "outputs": [
    {
     "data": {
      "text/plain": [
       "ILHA DO PRÍNCIPE               141\n",
       "GURIGICA                       111\n",
       "CARATOÍRA                      104\n",
       "TABUAZEIRO                     104\n",
       "SANTA MARTHA                    97\n",
       "RESISTÊNCIA                     94\n",
       "ANDORINHAS                      92\n",
       "BONFIM                          90\n",
       "ITARARÉ                         89\n",
       "DA PENHA                        85\n",
       "SANTO ANDRÉ                     79\n",
       "SÃO BENEDITO                    77\n",
       "JABOUR                          73\n",
       "NOVA PALESTINA                  67\n",
       "SÃO PEDRO                       66\n",
       "SANTOS DUMONT                   64\n",
       "JESUS DE NAZARETH               62\n",
       "SANTA TEREZA                    54\n",
       "SANTO ANTÔNIO                   49\n",
       "SÃO JOSÉ                        47\n",
       "ROMÃO                           47\n",
       "BELA VISTA                      47\n",
       "JOANA D´ARC                     46\n",
       "CRUZAMENTO                      45\n",
       "PRAIA DO SUÁ                    45\n",
       "JARDIM CAMBURI                  43\n",
       "ILHA DAS CAIEIRAS               43\n",
       "CONSOLAÇÃO                      41\n",
       "DO MOSCOSO                      38\n",
       "MARUÍPE                         36\n",
       "                              ... \n",
       "COMDUSA                          5\n",
       "ANTÔNIO HONÓRIO                  5\n",
       "ILHA DE SANTA MARIA              5\n",
       "GOIABEIRAS                       4\n",
       "SANTA CECÍLIA                    4\n",
       "MÁRIO CYPRESTE                   4\n",
       "UNIVERSITÁRIO                    3\n",
       "PARQUE MOSCOSO                   3\n",
       "MONTE BELO                       3\n",
       "ENSEADA DO SUÁ                   3\n",
       "FRADINHOS                        2\n",
       "SEGURANÇA DO LAR                 2\n",
       "JUCUTUQUARA                      2\n",
       "JARDIM DA PENHA                  1\n",
       "NAZARETH                         1\n",
       "HORTO                            1\n",
       "SANTA LUÍZA                      1\n",
       "MATA DA PRAIA                    1\n",
       "DE LOURDES                       1\n",
       "SANTA LÚCIA                      0\n",
       "BARRO VERMELHO                   0\n",
       "ILHAS OCEÂNICAS DE TRINDADE      0\n",
       "REPÚBLICA                        0\n",
       "PRAIA DO CANTO                   0\n",
       "PONTAL DE CAMBURI                0\n",
       "ILHA DO FRADE                    0\n",
       "PARQUE INDUSTRIAL                0\n",
       "MORADA DE CAMBURI                0\n",
       "ILHA DO BOI                      0\n",
       "AEROPORTO                        0\n",
       "Name: Neighbourhood, Length: 81, dtype: int64"
      ]
     },
     "execution_count": 73,
     "metadata": {},
     "output_type": "execute_result"
    }
   ],
   "source": [
    "#The neighbourhood without scholarships that didnt show up for appointment\n",
    "\n",
    "df.query('Scholarship == True and No_show == False').Neighbourhood.value_counts()"
   ]
  },
  {
   "cell_type": "markdown",
   "metadata": {},
   "source": [
    "We can see from above, the relationships that exist between those with or without scholarship that either attended or missed their appointments for each neighbourhood."
   ]
  },
  {
   "cell_type": "code",
   "execution_count": 74,
   "metadata": {},
   "outputs": [
    {
     "data": {
      "text/plain": [
       "116"
      ]
     },
     "execution_count": 74,
     "metadata": {},
     "output_type": "execute_result"
    }
   ],
   "source": [
    "#Females with scholarship that are handicapped\n",
    "\n",
    "df.query('Gender == \"F\" and Scholarship == True and Handicap == True').count().Gender"
   ]
  },
  {
   "cell_type": "code",
   "execution_count": 75,
   "metadata": {},
   "outputs": [
    {
     "data": {
      "text/plain": [
       "44"
      ]
     },
     "execution_count": 75,
     "metadata": {},
     "output_type": "execute_result"
    }
   ],
   "source": [
    "#Males with scholarship that are handicapped\n",
    "\n",
    "df.query('Gender == \"M\" and Scholarship == True and Handicap == True').count().Gender"
   ]
  },
  {
   "cell_type": "markdown",
   "metadata": {},
   "source": [
    "Males with hypertension that showed up for their appointments;"
   ]
  },
  {
   "cell_type": "code",
   "execution_count": 76,
   "metadata": {},
   "outputs": [
    {
     "data": {
      "text/plain": [
       "False    25615\n",
       "True      5347\n",
       "Name: Hypertension, dtype: int64"
      ]
     },
     "execution_count": 76,
     "metadata": {},
     "output_type": "execute_result"
    }
   ],
   "source": [
    "df.query('Gender == \"M\" and No_show == True').Hypertension.value_counts()"
   ]
  },
  {
   "cell_type": "code",
   "execution_count": 77,
   "metadata": {},
   "outputs": [
    {
     "data": {
      "image/png": "[encoded data removed]",
      "text/plain": [
       "<matplotlib.figure.Figure at 0x7f81b67a95c0>"
      ]
     },
     "metadata": {
      "needs_background": "light"
     },
     "output_type": "display_data"
    }
   ],
   "source": [
    "#Male patients that are either hypertensive or not that showed up for appointment\n",
    "\n",
    "df.query('Gender == \"M\" and No_show == True').Hypertension.value_counts().plot(kind='bar',title='A graph of males that either showed up or not')\n",
    "plt.xlabel('Showed up for appointment', fontsize=18)\n",
    "plt.ylabel('Hypertensive male patients', fontsize=18);"
   ]
  },
  {
   "cell_type": "markdown",
   "metadata": {},
   "source": [
    "From the above plot, just above 5000 patients that were hypertensive showed up for their appointment while over 25000 had no hypertension"
   ]
  },
  {
   "cell_type": "code",
   "execution_count": 78,
   "metadata": {},
   "outputs": [
    {
     "data": {
      "text/plain": [
       "count        2.000000\n",
       "mean     15481.000000\n",
       "std      14331.640241\n",
       "min       5347.000000\n",
       "25%      10414.000000\n",
       "50%      15481.000000\n",
       "75%      20548.000000\n",
       "max      25615.000000\n",
       "Name: Hypertension, dtype: float64"
      ]
     },
     "execution_count": 78,
     "metadata": {},
     "output_type": "execute_result"
    }
   ],
   "source": [
    "df.query('Gender == \"M\" and No_show == True').Hypertension.value_counts().describe()"
   ]
  },
  {
   "cell_type": "code",
   "execution_count": 79,
   "metadata": {},
   "outputs": [
    {
     "data": {
      "text/plain": [
       "5347"
      ]
     },
     "execution_count": 79,
     "metadata": {},
     "output_type": "execute_result"
    }
   ],
   "source": [
    "#Males with hypertension that showed up for appointment\n",
    "\n",
    "df.query('Gender == \"M\" and Hypertension == True and No_show == True').count().Gender"
   ]
  },
  {
   "cell_type": "markdown",
   "metadata": {},
   "source": [
    "From the above, the following can be deduced;\n",
    "* 5347 Hypertension patients showed up for their appointment as against 25615 patients that didnt show up\n",
    "* More male hypertensive patients refused to show up for their appoints\n",
    "* A total of 30962 males were hypertensive and only about 17% of them showed up for their appointments."
   ]
  },
  {
   "cell_type": "code",
   "execution_count": 80,
   "metadata": {},
   "outputs": [
    {
     "data": {
      "text/plain": [
       "12682"
      ]
     },
     "execution_count": 80,
     "metadata": {},
     "output_type": "execute_result"
    }
   ],
   "source": [
    "#Females with hypertension that showed up for appointment\n",
    "\n",
    "df.query('Gender == \"F\" and Hypertension == True and No_show == True').count().Gender"
   ]
  },
  {
   "cell_type": "code",
   "execution_count": 81,
   "metadata": {},
   "outputs": [
    {
     "data": {
      "text/plain": [
       "False    44564\n",
       "True     12682\n",
       "Name: Hypertension, dtype: int64"
      ]
     },
     "execution_count": 81,
     "metadata": {},
     "output_type": "execute_result"
    }
   ],
   "source": [
    "df.query('Gender == \"F\" and No_show == True').Hypertension.value_counts()"
   ]
  },
  {
   "cell_type": "code",
   "execution_count": 82,
   "metadata": {},
   "outputs": [
    {
     "data": {
      "text/plain": [
       "0      1498\n",
       "1       972\n",
       "2       720\n",
       "5       657\n",
       "3       615\n",
       "6       609\n",
       "7       594\n",
       "8       583\n",
       "9       558\n",
       "4       539\n",
       "10      533\n",
       "59      507\n",
       "63      506\n",
       "52      498\n",
       "11      488\n",
       "49      475\n",
       "57      457\n",
       "50      441\n",
       "38      425\n",
       "64      421\n",
       "46      418\n",
       "13      405\n",
       "53      398\n",
       "12      391\n",
       "58      390\n",
       "44      389\n",
       "55      388\n",
       "40      386\n",
       "56      383\n",
       "66      379\n",
       "       ... \n",
       "73      225\n",
       "70      221\n",
       "71      196\n",
       "74      164\n",
       "78      164\n",
       "72      164\n",
       "75      155\n",
       "77      153\n",
       "76      129\n",
       "81      129\n",
       "80      128\n",
       "79      123\n",
       "82      121\n",
       "84      109\n",
       "85       72\n",
       "83       66\n",
       "86       60\n",
       "87       43\n",
       "89       37\n",
       "88       30\n",
       "90       28\n",
       "92       20\n",
       "93       20\n",
       "94       14\n",
       "91        9\n",
       "95        4\n",
       "96        4\n",
       "100       2\n",
       "97        1\n",
       "98        1\n",
       "Name: Age, Length: 100, dtype: int64"
      ]
     },
     "execution_count": 82,
     "metadata": {},
     "output_type": "execute_result"
    }
   ],
   "source": [
    "#Ages of males that showed up for their appointment\n",
    "\n",
    "df.query('Gender == \"M\" and No_show == True').Age.value_counts()"
   ]
  },
  {
   "cell_type": "code",
   "execution_count": 83,
   "metadata": {},
   "outputs": [
    {
     "data": {
      "text/plain": [
       "F    3851\n",
       "M    1494\n",
       "Name: Gender, dtype: int64"
      ]
     },
     "execution_count": 83,
     "metadata": {},
     "output_type": "execute_result"
    }
   ],
   "source": [
    "#Males and Females with hypertension and diabetes that showed up for their appointments\n",
    "\n",
    "df.query('Hypertension == True and Diabetes == True and No_show == True').Gender.value_counts()"
   ]
  },
  {
   "cell_type": "code",
   "execution_count": 84,
   "metadata": {},
   "outputs": [
    {
     "data": {
      "text/plain": [
       "F    1060\n",
       "M     439\n",
       "Name: Gender, dtype: int64"
      ]
     },
     "execution_count": 84,
     "metadata": {},
     "output_type": "execute_result"
    }
   ],
   "source": [
    "#Males and Females with hypertension and diabetes that showed up for their appointments after receiving sms notification\n",
    "\n",
    "df.query('Hypertension == True and Diabetes == True and SMS_received == True and No_show == True').Gender.value_counts()"
   ]
  },
  {
   "cell_type": "code",
   "execution_count": 85,
   "metadata": {},
   "outputs": [
    {
     "data": {
      "text/plain": [
       "SANTO ANTÔNIO                  72\n",
       "TABUAZEIRO                     57\n",
       "CENTRO                         55\n",
       "SÃO JOSÉ                       50\n",
       "SANTA MARTHA                   48\n",
       "DA PENHA                       44\n",
       "ANDORINHAS                     44\n",
       "REDENÇÃO                       44\n",
       "JARDIM DA PENHA                41\n",
       "RESISTÊNCIA                    41\n",
       "ITARARÉ                        38\n",
       "SÃO PEDRO                      38\n",
       "BELA VISTA                     36\n",
       "SANTO ANDRÉ                    34\n",
       "DO QUADRO                      34\n",
       "CARATOÍRA                      33\n",
       "MATA DA PRAIA                  33\n",
       "SÃO CRISTÓVÃO                  27\n",
       "JESUS DE NAZARETH              27\n",
       "BONFIM                         25\n",
       "SANTA TEREZA                   25\n",
       "NOVA PALESTINA                 23\n",
       "VILA RUBIM                     21\n",
       "FONTE GRANDE                   20\n",
       "MARUÍPE                        19\n",
       "ESTRELINHA                     16\n",
       "GURIGICA                       16\n",
       "PRAIA DO SUÁ                   14\n",
       "GRANDE VITÓRIA                 14\n",
       "ROMÃO                          13\n",
       "                               ..\n",
       "JOANA D´ARC                     3\n",
       "JUCUTUQUARA                     3\n",
       "MORADA DE CAMBURI               3\n",
       "ENSEADA DO SUÁ                  3\n",
       "GOIABEIRAS                      3\n",
       "DO MOSCOSO                      2\n",
       "PARQUE MOSCOSO                  2\n",
       "ANTÔNIO HONÓRIO                 1\n",
       "SANTA LÚCIA                     1\n",
       "SEGURANÇA DO LAR                1\n",
       "BARRO VERMELHO                  1\n",
       "COMDUSA                         1\n",
       "SANTOS REIS                     1\n",
       "HORTO                           1\n",
       "JABOUR                          1\n",
       "UNIVERSITÁRIO                   1\n",
       "SANTA CECÍLIA                   1\n",
       "FRADINHOS                       0\n",
       "ILHA DE SANTA MARIA             0\n",
       "ILHA DO BOI                     0\n",
       "ILHA DO FRADE                   0\n",
       "ILHAS OCEÂNICAS DE TRINDADE     0\n",
       "SANTA HELENA                    0\n",
       "BOA VISTA                       0\n",
       "MONTE BELO                      0\n",
       "MÁRIO CYPRESTE                  0\n",
       "NAZARETH                        0\n",
       "PARQUE INDUSTRIAL               0\n",
       "PONTAL DE CAMBURI               0\n",
       "AEROPORTO                       0\n",
       "Name: Neighbourhood, Length: 81, dtype: int64"
      ]
     },
     "execution_count": 85,
     "metadata": {},
     "output_type": "execute_result"
    }
   ],
   "source": [
    "#Females that are handicapped in a particular neighbourhood\n",
    "df.query('Gender == \"F\" and Handicap == True').Neighbourhood.value_counts()"
   ]
  },
  {
   "cell_type": "code",
   "execution_count": 86,
   "metadata": {},
   "outputs": [
    {
     "data": {
      "text/plain": [
       "GRANDE VITÓRIA                 46\n",
       "SANTA MARTHA                   37\n",
       "RESISTÊNCIA                    36\n",
       "NOVA PALESTINA                 36\n",
       "JARDIM DA PENHA                32\n",
       "BELA VISTA                     32\n",
       "ANDORINHAS                     30\n",
       "DA PENHA                       30\n",
       "SANTO ANTÔNIO                  27\n",
       "SÃO PEDRO                      27\n",
       "CENTRO                         27\n",
       "JESUS DE NAZARETH              26\n",
       "SANTO ANDRÉ                    25\n",
       "SÃO BENEDITO                   23\n",
       "ITARARÉ                        23\n",
       "CARATOÍRA                      22\n",
       "SANTA TEREZA                   21\n",
       "SÃO JOSÉ                       21\n",
       "MATA DA PRAIA                  21\n",
       "PRAIA DO SUÁ                   19\n",
       "MARUÍPE                        19\n",
       "HORTO                          18\n",
       "TABUAZEIRO                     18\n",
       "GOIABEIRAS                     16\n",
       "BONFIM                         15\n",
       "GURIGICA                       15\n",
       "ESTRELINHA                     13\n",
       "ILHA DO PRÍNCIPE               13\n",
       "VILA RUBIM                     13\n",
       "ROMÃO                          13\n",
       "                               ..\n",
       "JOANA D´ARC                     2\n",
       "MARIA ORTIZ                     2\n",
       "MONTE BELO                      2\n",
       "MÁRIO CYPRESTE                  2\n",
       "SOLON BORGES                    1\n",
       "JABOUR                          1\n",
       "SEGURANÇA DO LAR                1\n",
       "SANTA CLARA                     1\n",
       "CONQUISTA                       1\n",
       "SANTA LUÍZA                     1\n",
       "CRUZAMENTO                      1\n",
       "PARQUE INDUSTRIAL               0\n",
       "COMDUSA                         0\n",
       "SANTOS REIS                     0\n",
       "ANTÔNIO HONÓRIO                 0\n",
       "BOA VISTA                       0\n",
       "SANTA HELENA                    0\n",
       "SANTA LÚCIA                     0\n",
       "DO MOSCOSO                      0\n",
       "FRADINHOS                       0\n",
       "ILHA DE SANTA MARIA             0\n",
       "ILHA DO BOI                     0\n",
       "ILHA DO FRADE                   0\n",
       "REPÚBLICA                       0\n",
       "ILHAS OCEÂNICAS DE TRINDADE     0\n",
       "JUCUTUQUARA                     0\n",
       "PONTAL DE CAMBURI               0\n",
       "MORADA DE CAMBURI               0\n",
       "NAZARETH                        0\n",
       "AEROPORTO                       0\n",
       "Name: Neighbourhood, Length: 81, dtype: int64"
      ]
     },
     "execution_count": 86,
     "metadata": {},
     "output_type": "execute_result"
    }
   ],
   "source": [
    "#Males that are handicapped in a particular neighbourhood\n",
    "df.query('Gender == \"M\" and Handicap == True').Neighbourhood.value_counts()"
   ]
  },
  {
   "cell_type": "code",
   "execution_count": 87,
   "metadata": {},
   "outputs": [
    {
     "data": {
      "image/png": "[encoded data removed]",
      "text/plain": [
       "<matplotlib.figure.Figure at 0x7f81b68daf60>"
      ]
     },
     "metadata": {
      "needs_background": "light"
     },
     "output_type": "display_data"
    }
   ],
   "source": [
    "#Appointment distribution\n",
    "\n",
    "sns.countplot(df['No_show']).set_title('A graph of No_show');"
   ]
  },
  {
   "cell_type": "markdown",
   "metadata": {},
   "source": [
    "A graph showing the number of patients that either showed up or didnt.\n",
    "\n",
    "from the above, it can be deduced that more patients showed up for their appointments"
   ]
  },
  {
   "cell_type": "code",
   "execution_count": 88,
   "metadata": {},
   "outputs": [
    {
     "data": {
      "image/png": "[encoded data removed]",
      "text/plain": [
       "<matplotlib.figure.Figure at 0x7f81b67f7748>"
      ]
     },
     "metadata": {
      "needs_background": "light"
     },
     "output_type": "display_data"
    }
   ],
   "source": [
    "df.groupby(['AppointmentDay', 'No_show'])['Gender'].count().plot(kind='hist', subplots=True, sharey=True, title='A plot of male & female patients that showed up on their appointment day')\n",
    "plt.xlabel('No_show', fontsize=18)\n",
    "plt.ylabel('Patients', fontsize=18);"
   ]
  },
  {
   "cell_type": "markdown",
   "metadata": {},
   "source": [
    "The above is a plot of male and female patients that showed up on their appointment day"
   ]
  },
  {
   "cell_type": "code",
   "execution_count": 89,
   "metadata": {},
   "outputs": [
    {
     "data": {
      "image/png": "[encoded data removed]",
      "text/plain": [
       "<matplotlib.figure.Figure at 0x7f81b6902470>"
      ]
     },
     "metadata": {
      "needs_background": "light"
     },
     "output_type": "display_data"
    }
   ],
   "source": [
    "#Hypertensive and diabetic patients that got a text and showed up for an appointment\n",
    "\n",
    "df.query('Hypertension == True and Diabetes == True and SMS_received == True and No_show == True').Gender.value_counts().plot(kind='bar', title='Graph of hypertensive and diabetic patients that received a sms and showed up')\n",
    "plt.xlabel('Gender of patients', fontsize=18)\n",
    "plt.ylabel('No of patients', fontsize=18);"
   ]
  },
  {
   "cell_type": "markdown",
   "metadata": {},
   "source": [
    "The plot above shows the males and females who are both hypertensive and diabetic that got a text before showing up for their appointment"
   ]
  },
  {
   "cell_type": "markdown",
   "metadata": {},
   "source": [
    "# Conclusion"
   ]
  },
  {
   "cell_type": "markdown",
   "metadata": {},
   "source": [
    "From the above analysis and visualisation, the following can be observed based on questions asked;\n",
    "\n",
    "* Men that were 0-yo, showed up the most for their appointments. They were about 1498\n",
    "* 80% men showed up for their appointments as against 79.6% women that showed up for their appointments. The % difference amongst gender can be said to be negligible since it's just about 0.4%\n",
    "* The oldest females were 115yo while the oldest men were 100yo. Hence, it can be seen they were more younger men than women as can be seen from the youngest males and females.\n",
    "* 57246 females out of 71840 showed up for their appointment while about 30962 males out of 38687 showed up for their appointments.\n",
    "* 1403 females of 0-yo showed up for their appointment while 1498 males of same age showed up for their appointment. It can be seen the lower the age, the higher their chances of making it to their appointment since less than 12 females of age 98 and above were able to show up while less than 13 males of age 95 and above did same.\n",
    "* 5347 males with hypertension showed up for their appointment\n",
    "\n",
    "From the above analysis, it can be seen that age plays a pivotal role in patients showing up for their appointments. The older we become, the less willing we are to make it for appointment.\n",
    "Also, it can be seen that more women suffers from hypertension and diabetes. This may not be accurate since the values of our dataset are hypothetical.\n",
    "Furthermore, I hope to explore real life dataset in future to ascertain these findings and to confirm if my hypothetical testing conforms with it.\n",
    "\n",
    "\n",
    "LIMITATIONS:\n",
    "* This dataset are hypothetical tests and can't be used in a real world settings. Hence, conclusion obtained from this result may differ in real world."
   ]
  },
  {
   "cell_type": "markdown",
   "metadata": {},
   "source": [
    "# References"
   ]
  },
  {
   "cell_type": "markdown",
   "metadata": {},
   "source": [
    "</https://stackoverflow.com/> </https://google.com/>"
   ]
  },
  {
   "cell_type": "code",
   "execution_count": 90,
   "metadata": {},
   "outputs": [
    {
     "data": {
      "text/plain": [
       "0"
      ]
     },
     "execution_count": 90,
     "metadata": {},
     "output_type": "execute_result"
    }
   ],
   "source": [
    "from subprocess import call\n",
    "call(['python', '-m', 'nbconvert', 'Investigate_a_Dataset.ipynb'])"
   ]
  },
  {
   "cell_type": "code",
   "execution_count": null,
   "metadata": {},
   "outputs": [],
   "source": []
  }
 ],
 "metadata": {
  "kernelspec": {
   "display_name": "Python 3",
   "language": "python",
   "name": "python3"
  },
  "language_info": {
   "codemirror_mode": {
    "name": "ipython",
    "version": 3
   },
   "file_extension": ".py",
   "mimetype": "text/x-python",
   "name": "python",
   "nbconvert_exporter": "python",
   "pygments_lexer": "ipython3",
   "version": "3.6.3"
  }
 },
 "nbformat": 4,
 "nbformat_minor": 2
}
